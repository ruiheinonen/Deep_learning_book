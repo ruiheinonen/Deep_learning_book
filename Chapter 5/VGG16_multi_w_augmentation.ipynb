{
 "cells": [
  {
   "cell_type": "code",
   "execution_count": 1,
   "metadata": {},
   "outputs": [
    {
     "name": "stderr",
     "output_type": "stream",
     "text": [
      "Using TensorFlow backend.\n"
     ]
    }
   ],
   "source": [
    "import os\n",
    "import pandas as pd\n",
    "import numpy as np\n",
    "import time\n",
    "from keras.preprocessing.image import ImageDataGenerator\n",
    "from keras.layers import Dense, Dropout\n",
    "from keras import models, optimizers\n",
    "from keras.applications import VGG16\n",
    "\n",
    "from keras.models import Model, Sequential\n",
    "from keras.callbacks import ReduceLROnPlateau\n",
    "\n",
    "import matplotlib.pyplot as plt"
   ]
  },
  {
   "cell_type": "markdown",
   "metadata": {},
   "source": [
    "**Extend the naive solution**\n",
    "* Use VGG16 pretrained on ImageNet\n",
    "    * ImageNet dataset contains 1.4million labeled images and 1000 classes"
   ]
  },
  {
   "cell_type": "markdown",
   "metadata": {},
   "source": [
    "#### Read data\n",
    "The dataset has the following directory structure:\n",
    "\n",
    "<pre>\n",
    "<b>10-monkey-species/</b>\n",
    "|__ <b>training</b>\n",
    "    |______ <b>species_{1}</b>: [species_{1}.jpg, species_{2}.jpg, ... species_{n}]\n",
    "    |______ <b>species_{2}</b>: [species_{1}.jpg, species_{2}.jpg, ... species_{n}]\n",
    "    |           .\n",
    "    |           .\n",
    "    |______ <b>species_{n}</b>: [species_{1}.jpg, species_{2}.jpg, ... species_{n}]\n",
    "|__ <b>validation</b>\n",
    "    |______ <b>species_{1}</b>: [species_{1}.jpg, species_{2}.jpg, ... species_{n}]\n",
    "    |______ <b>species_{2}</b>: [species_{1}.jpg, species_{2}.jpg, ... species_{n}]\n",
    "    |           .\n",
    "    |           .\n",
    "    |______ <b>species_{n}</b>: [species_{1}.jpg, species_{2}.jpg, ... species_{n}]\n",
    "</pre>"
   ]
  },
  {
   "cell_type": "code",
   "execution_count": 2,
   "metadata": {},
   "outputs": [],
   "source": [
    "PATH = '/Users/fi000980702/Documents/Work/Chapter5/10-monkey-species/'\n",
    "train_dir = os.path.join(PATH, 'training')\n",
    "val_dir = os.path.join(PATH, 'validation')"
   ]
  },
  {
   "cell_type": "code",
   "execution_count": 3,
   "metadata": {},
   "outputs": [],
   "source": [
    "monkey_species = ['mantled_howler', 'patas_monkey', 'bald_uakari', \n",
    "                  'japanese_macaque', 'pygmy_marmoset','white_headed_capuchin',\n",
    "                  'silvery_marmoset', 'common_squirrel_monkey', 'black_headed_night_monkey', 'nilgiri_langur']"
   ]
  },
  {
   "cell_type": "code",
   "execution_count": 4,
   "metadata": {},
   "outputs": [
    {
     "name": "stdout",
     "output_type": "stream",
     "text": [
      "Total training mantled_howler images 105\n",
      "Total validation mantled_howler images 26\n",
      "--\n",
      "Total training patas_monkey images 111\n",
      "Total validation patas_monkey images 28\n",
      "--\n",
      "Total training bald_uakari images 110\n",
      "Total validation bald_uakari images 27\n",
      "--\n",
      "Total training japanese_macaque images 122\n",
      "Total validation japanese_macaque images 30\n",
      "--\n",
      "Total training pygmy_marmoset images 105\n",
      "Total validation pygmy_marmoset images 26\n",
      "--\n",
      "Total training white_headed_capuchin images 113\n",
      "Total validation white_headed_capuchin images 28\n",
      "--\n",
      "Total training silvery_marmoset images 106\n",
      "Total validation silvery_marmoset images 26\n",
      "--\n",
      "Total training common_squirrel_monkey images 114\n",
      "Total validation common_squirrel_monkey images 28\n",
      "--\n",
      "Total training black_headed_night_monkey images 106\n",
      "Total validation black_headed_night_monkey images 27\n",
      "--\n",
      "Total training nilgiri_langur images 106\n",
      "Total validation nilgiri_langur images 26\n",
      "--\n",
      "Total training samples 1098\n",
      "Total validation samples 272\n"
     ]
    }
   ],
   "source": [
    "train_lengths = []\n",
    "validation_lengths = []\n",
    "\n",
    "for i, species in enumerate(monkey_species):\n",
    "    train_lengths.append(len(os.listdir(os.path.join(train_dir, species))))\n",
    "    validation_lengths.append(len(os.listdir(os.path.join(val_dir, species))))\n",
    "    print('Total training {:s} images {:d}'.format(species, train_lengths[i]))\n",
    "    print('Total validation {:s} images {:d}'.format(species, validation_lengths[i]))\n",
    "    print(\"--\")\n",
    "    \n",
    "print('Total training samples',np.sum(train_lengths))\n",
    "print('Total validation samples', np.sum(validation_lengths))"
   ]
  },
  {
   "cell_type": "markdown",
   "metadata": {},
   "source": [
    "#### Pretrained VGG16 on ImageNet\n",
    "* We omit the densely connected layer because the representations learned by the convolutional layer are likely to be more generic and therefore more reusable whereas the representations learned by the classifier will necessarily be spesific to the set of classes on which the model was trained. Therefore we set ```include_top=False```"
   ]
  },
  {
   "cell_type": "code",
   "execution_count": 5,
   "metadata": {},
   "outputs": [],
   "source": [
    "image_height = 300\n",
    "image_width = 300\n",
    "channels = 3\n",
    "batch_size = 20\n",
    "epochs = 8"
   ]
  },
  {
   "cell_type": "code",
   "execution_count": 6,
   "metadata": {},
   "outputs": [
    {
     "name": "stdout",
     "output_type": "stream",
     "text": [
      "Model: \"vgg16\"\n",
      "_________________________________________________________________\n",
      "Layer (type)                 Output Shape              Param #   \n",
      "=================================================================\n",
      "input_1 (InputLayer)         (None, 300, 300, 3)       0         \n",
      "_________________________________________________________________\n",
      "block1_conv1 (Conv2D)        (None, 300, 300, 64)      1792      \n",
      "_________________________________________________________________\n",
      "block1_conv2 (Conv2D)        (None, 300, 300, 64)      36928     \n",
      "_________________________________________________________________\n",
      "block1_pool (MaxPooling2D)   (None, 150, 150, 64)      0         \n",
      "_________________________________________________________________\n",
      "block2_conv1 (Conv2D)        (None, 150, 150, 128)     73856     \n",
      "_________________________________________________________________\n",
      "block2_conv2 (Conv2D)        (None, 150, 150, 128)     147584    \n",
      "_________________________________________________________________\n",
      "block2_pool (MaxPooling2D)   (None, 75, 75, 128)       0         \n",
      "_________________________________________________________________\n",
      "block3_conv1 (Conv2D)        (None, 75, 75, 256)       295168    \n",
      "_________________________________________________________________\n",
      "block3_conv2 (Conv2D)        (None, 75, 75, 256)       590080    \n",
      "_________________________________________________________________\n",
      "block3_conv3 (Conv2D)        (None, 75, 75, 256)       590080    \n",
      "_________________________________________________________________\n",
      "block3_pool (MaxPooling2D)   (None, 37, 37, 256)       0         \n",
      "_________________________________________________________________\n",
      "block4_conv1 (Conv2D)        (None, 37, 37, 512)       1180160   \n",
      "_________________________________________________________________\n",
      "block4_conv2 (Conv2D)        (None, 37, 37, 512)       2359808   \n",
      "_________________________________________________________________\n",
      "block4_conv3 (Conv2D)        (None, 37, 37, 512)       2359808   \n",
      "_________________________________________________________________\n",
      "block4_pool (MaxPooling2D)   (None, 18, 18, 512)       0         \n",
      "_________________________________________________________________\n",
      "block5_conv1 (Conv2D)        (None, 18, 18, 512)       2359808   \n",
      "_________________________________________________________________\n",
      "block5_conv2 (Conv2D)        (None, 18, 18, 512)       2359808   \n",
      "_________________________________________________________________\n",
      "block5_conv3 (Conv2D)        (None, 18, 18, 512)       2359808   \n",
      "_________________________________________________________________\n",
      "block5_pool (MaxPooling2D)   (None, 9, 9, 512)         0         \n",
      "_________________________________________________________________\n",
      "global_max_pooling2d_1 (Glob (None, 512)               0         \n",
      "=================================================================\n",
      "Total params: 14,714,688\n",
      "Trainable params: 14,714,688\n",
      "Non-trainable params: 0\n",
      "_________________________________________________________________\n"
     ]
    }
   ],
   "source": [
    "conv_base = VGG16(\n",
    "    weights='imagenet', \n",
    "    include_top=False,\n",
    "    input_shape=(image_height, image_width, channels),\n",
    "    pooling='max')\n",
    "conv_base.summary()"
   ]
  },
  {
   "cell_type": "code",
   "execution_count": 9,
   "metadata": {},
   "outputs": [],
   "source": [
    "# Set up augmentation configuration\n",
    "train_datagen = ImageDataGenerator(\n",
    "    rescale=1./255, \n",
    "    rotation_range=40, \n",
    "    width_shift_range=0.2, \n",
    "    height_shift_range=0.2, \n",
    "    shear_range=0.2, \n",
    "    zoom_range=0.2, \n",
    "    horizontal_flip=True,\n",
    "    fill_mode='nearest') \n",
    "\n",
    "# Validation data will not augmented\n",
    "val_datagen = ImageDataGenerator(rescale=1./255) "
   ]
  },
  {
   "cell_type": "code",
   "execution_count": 10,
   "metadata": {},
   "outputs": [
    {
     "name": "stdout",
     "output_type": "stream",
     "text": [
      "Found 1098 images belonging to 10 classes.\n",
      "Found 272 images belonging to 10 classes.\n"
     ]
    }
   ],
   "source": [
    "train_generator = train_datagen.flow_from_directory(\n",
    "    train_dir, \n",
    "    target_size=(image_width, image_height),\n",
    "    batch_size=batch_size,\n",
    "    shuffle=True,\n",
    "    class_mode='categorical')\n",
    "\n",
    "val_generator = val_datagen.flow_from_directory(\n",
    "    val_dir, \n",
    "    target_size=(image_width, image_height), \n",
    "    batch_size=batch_size,\n",
    "    shuffle=False,\n",
    "    class_mode='categorical')"
   ]
  },
  {
   "cell_type": "markdown",
   "metadata": {},
   "source": [
    "Before we compile and train our model, a very important thing to do is to freeze the convolutional base. \"Freezing\" a layer or set of layers means preventing their weights from getting updated during training. If we don't do this, then the representations that were previously learned by the convolutional base would get modified during training. \n",
    "\n",
    "Additionally, we will fine-tune the last 3 convolutional layers, which means that all layers up until **block4_pool** should be frozen, and the layers **block5_conv1, block5_conv2 and block5_conv3** should be trainable. We fine-fune only the last three layers because earlier layers in the convolutional base encode more generic, reusable features, while layers higher up encode more specialized features. Therefore, it is more useful to fine-tune the more specialized features, as these are the ones that need to be repurposed on our new problem."
   ]
  },
  {
   "cell_type": "code",
   "execution_count": 11,
   "metadata": {},
   "outputs": [],
   "source": [
    "conv_base.trainable = True\n",
    "\n",
    "set_trainable = False\n",
    "for layer in conv_base.layers:\n",
    "    if layer.name == 'block5_conv1':\n",
    "        set_trainable = True\n",
    "    if set_trainable:\n",
    "        layer.trainable = True\n",
    "    else:\n",
    "        layer.trainable = False"
   ]
  },
  {
   "cell_type": "code",
   "execution_count": 12,
   "metadata": {},
   "outputs": [
    {
     "name": "stdout",
     "output_type": "stream",
     "text": [
      "Model: \"sequential_1\"\n",
      "_________________________________________________________________\n",
      "Layer (type)                 Output Shape              Param #   \n",
      "=================================================================\n",
      "block1_conv1 (Conv2D)        (None, 300, 300, 64)      1792      \n",
      "_________________________________________________________________\n",
      "block1_conv2 (Conv2D)        (None, 300, 300, 64)      36928     \n",
      "_________________________________________________________________\n",
      "block1_pool (MaxPooling2D)   (None, 150, 150, 64)      0         \n",
      "_________________________________________________________________\n",
      "block2_conv1 (Conv2D)        (None, 150, 150, 128)     73856     \n",
      "_________________________________________________________________\n",
      "block2_conv2 (Conv2D)        (None, 150, 150, 128)     147584    \n",
      "_________________________________________________________________\n",
      "block2_pool (MaxPooling2D)   (None, 75, 75, 128)       0         \n",
      "_________________________________________________________________\n",
      "block3_conv1 (Conv2D)        (None, 75, 75, 256)       295168    \n",
      "_________________________________________________________________\n",
      "block3_conv2 (Conv2D)        (None, 75, 75, 256)       590080    \n",
      "_________________________________________________________________\n",
      "block3_conv3 (Conv2D)        (None, 75, 75, 256)       590080    \n",
      "_________________________________________________________________\n",
      "block3_pool (MaxPooling2D)   (None, 37, 37, 256)       0         \n",
      "_________________________________________________________________\n",
      "block4_conv1 (Conv2D)        (None, 37, 37, 512)       1180160   \n",
      "_________________________________________________________________\n",
      "block4_conv2 (Conv2D)        (None, 37, 37, 512)       2359808   \n",
      "_________________________________________________________________\n",
      "block4_conv3 (Conv2D)        (None, 37, 37, 512)       2359808   \n",
      "_________________________________________________________________\n",
      "block4_pool (MaxPooling2D)   (None, 18, 18, 512)       0         \n",
      "_________________________________________________________________\n",
      "block5_conv1 (Conv2D)        (None, 18, 18, 512)       2359808   \n",
      "_________________________________________________________________\n",
      "block5_conv2 (Conv2D)        (None, 18, 18, 512)       2359808   \n",
      "_________________________________________________________________\n",
      "block5_conv3 (Conv2D)        (None, 18, 18, 512)       2359808   \n",
      "_________________________________________________________________\n",
      "block5_pool (MaxPooling2D)   (None, 9, 9, 512)         0         \n",
      "_________________________________________________________________\n",
      "global_max_pooling2d_1 (Glob (None, 512)               0         \n",
      "_________________________________________________________________\n",
      "dense_1 (Dense)              (None, 512)               262656    \n",
      "_________________________________________________________________\n",
      "dropout_1 (Dropout)          (None, 512)               0         \n",
      "_________________________________________________________________\n",
      "dense_2 (Dense)              (None, 10)                5130      \n",
      "=================================================================\n",
      "Total params: 14,982,474\n",
      "Trainable params: 7,347,210\n",
      "Non-trainable params: 7,635,264\n",
      "_________________________________________________________________\n"
     ]
    }
   ],
   "source": [
    "model = Sequential()\n",
    "for layer in conv_base.layers:\n",
    "    model.add(layer)\n",
    "#base_model.trainable = False\n",
    "model.add(Dense(512, activation='relu'))\n",
    "model.add(Dropout(0.5))\n",
    "model.add(Dense(10, activation='softmax'))\n",
    "\n",
    "adam = optimizers.Adam(lr=1e-4, epsilon=1e-08, decay=1e-5)\n",
    "model.compile(optimizer=adam, loss='categorical_crossentropy', metrics=['acc'])\n",
    "model.summary()"
   ]
  },
  {
   "cell_type": "markdown",
   "metadata": {},
   "source": [
    "Below we saa that the last three convolutional layers in addition to the dense layers are all trainable whereas the preceeding layers are frozen."
   ]
  },
  {
   "cell_type": "code",
   "execution_count": 13,
   "metadata": {},
   "outputs": [
    {
     "name": "stdout",
     "output_type": "stream",
     "text": [
      "<keras.layers.convolutional.Conv2D object at 0x138368a90> False\n",
      "<keras.layers.convolutional.Conv2D object at 0x106f35190> False\n",
      "<keras.layers.pooling.MaxPooling2D object at 0x138405a90> False\n",
      "<keras.layers.convolutional.Conv2D object at 0x138426dd0> False\n",
      "<keras.layers.convolutional.Conv2D object at 0x1384ad2d0> False\n",
      "<keras.layers.pooling.MaxPooling2D object at 0x1384ad950> False\n",
      "<keras.layers.convolutional.Conv2D object at 0x1384c0710> False\n",
      "<keras.layers.convolutional.Conv2D object at 0x1384cac50> False\n",
      "<keras.layers.convolutional.Conv2D object at 0x1384caa90> False\n",
      "<keras.layers.pooling.MaxPooling2D object at 0x1384d9990> False\n",
      "<keras.layers.convolutional.Conv2D object at 0x138537d90> False\n",
      "<keras.layers.convolutional.Conv2D object at 0x13854ba50> False\n",
      "<keras.layers.convolutional.Conv2D object at 0x138537e10> False\n",
      "<keras.layers.pooling.MaxPooling2D object at 0x1385915d0> False\n",
      "<keras.layers.convolutional.Conv2D object at 0x138591850> True\n",
      "<keras.layers.convolutional.Conv2D object at 0x13859e650> True\n",
      "<keras.layers.convolutional.Conv2D object at 0x1385abf10> True\n",
      "<keras.layers.pooling.MaxPooling2D object at 0x1385abbd0> True\n",
      "<keras.layers.pooling.GlobalMaxPooling2D object at 0x13c1afc50> True\n",
      "<keras.layers.core.Dense object at 0x138426310> True\n",
      "<keras.layers.core.Dropout object at 0x1384264d0> True\n",
      "<keras.layers.core.Dense object at 0x106481610> True\n"
     ]
    }
   ],
   "source": [
    "for layer in model.layers:\n",
    "    print(layer, layer.trainable)"
   ]
  },
  {
   "cell_type": "code",
   "execution_count": 14,
   "metadata": {},
   "outputs": [
    {
     "name": "stdout",
     "output_type": "stream",
     "text": [
      "Epoch 1/8\n",
      "54/54 [==============================] - 855s 16s/step - loss: 2.1457 - acc: 0.2523 - val_loss: 1.6092 - val_acc: 0.6231\n",
      "Epoch 2/8\n",
      "54/54 [==============================] - 837s 15s/step - loss: 1.2182 - acc: 0.5881 - val_loss: 0.4998 - val_acc: 0.8095\n",
      "Epoch 3/8\n",
      "54/54 [==============================] - 833s 15s/step - loss: 0.8126 - acc: 0.7254 - val_loss: 0.4082 - val_acc: 0.8690\n",
      "Epoch 4/8\n",
      "54/54 [==============================] - 851s 16s/step - loss: 0.4685 - acc: 0.8423 - val_loss: 0.2749 - val_acc: 0.8889\n",
      "Epoch 5/8\n",
      "54/54 [==============================] - 875s 16s/step - loss: 0.4110 - acc: 0.8627 - val_loss: 0.1972 - val_acc: 0.9048\n",
      "Epoch 6/8\n",
      "54/54 [==============================] - 838s 16s/step - loss: 0.3128 - acc: 0.9045 - val_loss: 0.2802 - val_acc: 0.9365\n",
      "\n",
      "Epoch 00006: ReduceLROnPlateau reducing learning rate to 2.9999999242136255e-05.\n",
      "Epoch 7/8\n",
      "54/54 [==============================] - 834s 15s/step - loss: 0.2018 - acc: 0.9315 - val_loss: 0.1178 - val_acc: 0.9484\n",
      "Epoch 8/8\n",
      "54/54 [==============================] - 832s 15s/step - loss: 0.1444 - acc: 0.9507 - val_loss: 0.0254 - val_acc: 0.9563\n",
      "Execution time 112.587880 minutes\n"
     ]
    }
   ],
   "source": [
    "start_time = time.time()     \n",
    "\n",
    "lr_plateau = ReduceLROnPlateau(\n",
    "    monitor='val_loss', \n",
    "    patience=1, \n",
    "    verbose=1, \n",
    "    factor=0.3, \n",
    "    min_lr=1e-5)\n",
    "\n",
    "history = model.fit_generator(\n",
    "    train_generator, \n",
    "    steps_per_epoch=np.sum(train_lengths)//batch_size, \n",
    "    epochs=epochs,\n",
    "    validation_data=val_generator, \n",
    "    validation_steps=np.sum(validation_lengths)//batch_size,\n",
    "    callbacks=[lr_plateau])\n",
    "\n",
    "total_time = (time.time() - start_time)/60                                     \n",
    "print('Execution time {:2f} minutes'.format(total_time))    "
   ]
  },
  {
   "cell_type": "code",
   "execution_count": 15,
   "metadata": {},
   "outputs": [],
   "source": [
    "model.save('vgg16_multi_w_aug.h5')"
   ]
  },
  {
   "cell_type": "code",
   "execution_count": 16,
   "metadata": {},
   "outputs": [
    {
     "data": {
      "text/plain": [
       "<matplotlib.legend.Legend at 0x138936f90>"
      ]
     },
     "execution_count": 16,
     "metadata": {},
     "output_type": "execute_result"
    },
    {
     "data": {
      "image/png": "[encoded data removed]",
      "text/plain": [
       "<Figure size 720x576 with 2 Axes>"
      ]
     },
     "metadata": {
      "needs_background": "light"
     },
     "output_type": "display_data"
    }
   ],
   "source": [
    "fig, (ax0, ax1) = plt.subplots(2, 1, figsize=(10,8))\n",
    "\n",
    "history_dict = history.history\n",
    "epochs = range(1, len(history_dict['acc'])+1)\n",
    "\n",
    "ax0.plot(epochs, history_dict['loss'], 'firebrick', linewidth=3.0)\n",
    "ax0.plot(epochs, history_dict['val_loss'], 'midnightblue', linewidth=3.0)\n",
    "ax0.spines['top'].set_visible(False)\n",
    "ax0.spines['right'].set_visible(False)\n",
    "ax0.tick_params(bottom=False)\n",
    "ax0.set_xticklabels([])\n",
    "ax0.set_title('Loss curves: Pretrained VGG16')\n",
    "ax0.set_ylabel('Loss', fontsize=14)\n",
    "ax0.legend(['Training loss', 'Validation Loss'], loc='best')\n",
    "\n",
    "ax1.plot(epochs, history_dict['acc'], 'firebrick', linewidth=3.0)\n",
    "ax1.plot(epochs, history_dict['val_acc'], 'midnightblue' ,linewidth=3.0)\n",
    "ax1.spines['top'].set_visible(False)\n",
    "ax1.spines['right'].set_visible(False)\n",
    "ax1.set_title('Accuracy curves: Pretrained VGG16')\n",
    "ax1.set_xlabel('Epochs ', fontsize=14)\n",
    "ax1.set_ylabel('Accuracy', fontsize=14)\n",
    "ax1.legend(['Training Accuracy', 'Validation Accuracy'], loc='lower right')"
   ]
  },
  {
   "cell_type": "code",
   "execution_count": null,
   "metadata": {},
   "outputs": [],
   "source": []
  }
 ],
 "metadata": {
  "kernelspec": {
   "display_name": "Python 3",
   "language": "python",
   "name": "python3"
  },
  "language_info": {
   "codemirror_mode": {
    "name": "ipython",
    "version": 3
   },
   "file_extension": ".py",
   "mimetype": "text/x-python",
   "name": "python",
   "nbconvert_exporter": "python",
   "pygments_lexer": "ipython3",
   "version": "3.7.4"
  }
 },
 "nbformat": 4,
 "nbformat_minor": 2
}
