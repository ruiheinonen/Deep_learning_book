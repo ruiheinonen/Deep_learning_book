{
 "cells": [
  {
   "cell_type": "code",
   "execution_count": 1,
   "metadata": {},
   "outputs": [
    {
     "name": "stderr",
     "output_type": "stream",
     "text": [
      "Using TensorFlow backend.\n"
     ]
    }
   ],
   "source": [
    "import os\n",
    "import pandas as pd\n",
    "import numpy as np\n",
    "import time\n",
    "from keras.preprocessing.image import ImageDataGenerator\n",
    "from keras.layers import MaxPooling2D, Conv2D, Flatten, Dense, Dropout\n",
    "from keras import models, optimizers #,regularizers\n",
    "from keras.applications import VGG16\n",
    "from keras.callbacks import ReduceLROnPlateau\n",
    "\n",
    "import matplotlib.pyplot as plt"
   ]
  },
  {
   "cell_type": "markdown",
   "metadata": {},
   "source": [
    "**Extend the naive solution**\n",
    "* Use VGG16 pretrained on ImageNet\n",
    "    * ImageNet dataset contains 1.4million labeled images and 1000 classess including different species of cats and dogs"
   ]
  },
  {
   "cell_type": "markdown",
   "metadata": {},
   "source": [
    "#### Read data\n",
    "The dataset has the following directory structure:\n",
    "\n",
    "<pre>\n",
    "<b>cats_and_dogs_filtered</b>\n",
    "|__ <b>train</b>\n",
    "    |______ <b>cats</b>: [cat.0.jpg, cat.1.jpg, cat.2.jpg ...]\n",
    "    |______ <b>dogs</b>: [dog.0.jpg, dog.1.jpg, dog.2.jpg ...]\n",
    "|__ <b>validation</b>\n",
    "    |______ <b>cats</b>: [cat.2000.jpg, cat.2001.jpg, cat.2002.jpg ...]\n",
    "    |______ <b>dogs</b>: [dog.2000.jpg, dog.2001.jpg, dog.2002.jpg ...]\n",
    "</pre>"
   ]
  },
  {
   "cell_type": "code",
   "execution_count": 2,
   "metadata": {},
   "outputs": [],
   "source": [
    "PATH = '/Users/fi000980702/Documents/Work/Chapter5/data/'\n",
    "train_dir = os.path.join(PATH, 'training')\n",
    "val_dir = os.path.join(PATH, 'validation')"
   ]
  },
  {
   "cell_type": "code",
   "execution_count": 3,
   "metadata": {},
   "outputs": [],
   "source": [
    "train_cats_dir = os.path.join(train_dir, 'cats')\n",
    "train_dogs_dir = os.path.join(train_dir, 'dogs')\n",
    "val_cats_dir = os.path.join(val_dir, 'cats')\n",
    "val_dogs_dir = os.path.join(val_dir, 'dogs')"
   ]
  },
  {
   "cell_type": "code",
   "execution_count": 4,
   "metadata": {},
   "outputs": [],
   "source": [
    "num_cats_train = len(os.listdir(train_cats_dir))\n",
    "num_dogs_train = len(os.listdir(train_dogs_dir))\n",
    "num_cats_val = len(os.listdir(val_cats_dir))\n",
    "num_dogs_val = len(os.listdir(val_dogs_dir))\n",
    "total_train = num_cats_train + num_dogs_train\n",
    "total_val = num_cats_val + num_dogs_val"
   ]
  },
  {
   "cell_type": "code",
   "execution_count": 5,
   "metadata": {},
   "outputs": [
    {
     "name": "stdout",
     "output_type": "stream",
     "text": [
      "total training cat images: 4000\n",
      "total training dog images: 4000\n",
      "total validation cat images: 1000\n",
      "total validation dog images: 1000\n",
      "--\n",
      "Total training images: 8000\n",
      "Total validation images: 2000\n"
     ]
    }
   ],
   "source": [
    "print('total training cat images:', num_cats_train)\n",
    "print('total training dog images:', num_dogs_train)\n",
    "\n",
    "print('total validation cat images:', num_cats_val)\n",
    "print('total validation dog images:', num_dogs_val)\n",
    "print(\"--\")\n",
    "print(\"Total training images:\", total_train)\n",
    "print(\"Total validation images:\", total_val)"
   ]
  },
  {
   "cell_type": "markdown",
   "metadata": {},
   "source": [
    "#### Pretrained VGG16 on ImageNet\n",
    "* We omit the densely connected layer because the representations learned by the convolutional layer are likely to be more generic and therefore more reusable whereas the representations learned by the classifier will necessarily be spesific to the set of classes on which the model was trained. Therefore we set ```include_top=False```"
   ]
  },
  {
   "cell_type": "code",
   "execution_count": 6,
   "metadata": {},
   "outputs": [
    {
     "name": "stdout",
     "output_type": "stream",
     "text": [
      "Model: \"vgg16\"\n",
      "_________________________________________________________________\n",
      "Layer (type)                 Output Shape              Param #   \n",
      "=================================================================\n",
      "input_1 (InputLayer)         (None, 150, 150, 3)       0         \n",
      "_________________________________________________________________\n",
      "block1_conv1 (Conv2D)        (None, 150, 150, 64)      1792      \n",
      "_________________________________________________________________\n",
      "block1_conv2 (Conv2D)        (None, 150, 150, 64)      36928     \n",
      "_________________________________________________________________\n",
      "block1_pool (MaxPooling2D)   (None, 75, 75, 64)        0         \n",
      "_________________________________________________________________\n",
      "block2_conv1 (Conv2D)        (None, 75, 75, 128)       73856     \n",
      "_________________________________________________________________\n",
      "block2_conv2 (Conv2D)        (None, 75, 75, 128)       147584    \n",
      "_________________________________________________________________\n",
      "block2_pool (MaxPooling2D)   (None, 37, 37, 128)       0         \n",
      "_________________________________________________________________\n",
      "block3_conv1 (Conv2D)        (None, 37, 37, 256)       295168    \n",
      "_________________________________________________________________\n",
      "block3_conv2 (Conv2D)        (None, 37, 37, 256)       590080    \n",
      "_________________________________________________________________\n",
      "block3_conv3 (Conv2D)        (None, 37, 37, 256)       590080    \n",
      "_________________________________________________________________\n",
      "block3_pool (MaxPooling2D)   (None, 18, 18, 256)       0         \n",
      "_________________________________________________________________\n",
      "block4_conv1 (Conv2D)        (None, 18, 18, 512)       1180160   \n",
      "_________________________________________________________________\n",
      "block4_conv2 (Conv2D)        (None, 18, 18, 512)       2359808   \n",
      "_________________________________________________________________\n",
      "block4_conv3 (Conv2D)        (None, 18, 18, 512)       2359808   \n",
      "_________________________________________________________________\n",
      "block4_pool (MaxPooling2D)   (None, 9, 9, 512)         0         \n",
      "_________________________________________________________________\n",
      "block5_conv1 (Conv2D)        (None, 9, 9, 512)         2359808   \n",
      "_________________________________________________________________\n",
      "block5_conv2 (Conv2D)        (None, 9, 9, 512)         2359808   \n",
      "_________________________________________________________________\n",
      "block5_conv3 (Conv2D)        (None, 9, 9, 512)         2359808   \n",
      "_________________________________________________________________\n",
      "block5_pool (MaxPooling2D)   (None, 4, 4, 512)         0         \n",
      "=================================================================\n",
      "Total params: 14,714,688\n",
      "Trainable params: 14,714,688\n",
      "Non-trainable params: 0\n",
      "_________________________________________________________________\n"
     ]
    }
   ],
   "source": [
    "conv_base = VGG16(\n",
    "    weights='imagenet', \n",
    "    include_top=False, \n",
    "    input_shape=(150, 150, 3))\n",
    "conv_base.summary()"
   ]
  },
  {
   "cell_type": "markdown",
   "metadata": {},
   "source": [
    "The final feature map has shape (4, 4, 512). That's the feature on top of which we will stick a densely-connected classifier. Below we run the convolutional base over our dataset, record its output to a Numpy array on disk and then use this data as input to a standalone densely-connected classifier similar. This solution is very fast and cheap to run, because it only requires running the convolutional base once for every input image, and the convolutional base is by far the most expensive part of the pipeline. However, for the exact same reason, this technique would not allow us to leverage data augmentation at all."
   ]
  },
  {
   "cell_type": "code",
   "execution_count": 7,
   "metadata": {},
   "outputs": [],
   "source": [
    "datagen = ImageDataGenerator(rescale=1./255)"
   ]
  },
  {
   "cell_type": "code",
   "execution_count": 8,
   "metadata": {},
   "outputs": [],
   "source": [
    "batch_size = 32\n",
    "\n",
    "def extract_features(directory, sample_count):\n",
    "    features = np.zeros(shape=(sample_count, 4, 4, 512))\n",
    "    labels = np.zeros(shape=(sample_count))\n",
    "    generator = datagen.flow_from_directory(\n",
    "        directory,\n",
    "        target_size=(150, 150),\n",
    "        batch_size=batch_size,\n",
    "        class_mode='binary')\n",
    "    \n",
    "    i = 0\n",
    "    for inputs_batch, labels_batch in generator:\n",
    "        features_batch = conv_base.predict(inputs_batch)\n",
    "        features[i*batch_size: (i+1)*batch_size]=features_batch\n",
    "        labels[i*batch_size: (i+1)*batch_size]=labels_batch\n",
    "        i += 1\n",
    "        if i*batch_size>=sample_count:\n",
    "            break\n",
    "    return features, labels"
   ]
  },
  {
   "cell_type": "code",
   "execution_count": 9,
   "metadata": {},
   "outputs": [
    {
     "name": "stdout",
     "output_type": "stream",
     "text": [
      "Found 8000 images belonging to 2 classes.\n",
      "Found 2000 images belonging to 2 classes.\n"
     ]
    }
   ],
   "source": [
    "train_features, train_labels = extract_features(train_dir, 8000)\n",
    "validation_features, validation_labels = extract_features(val_dir, 2000)"
   ]
  },
  {
   "cell_type": "code",
   "execution_count": 10,
   "metadata": {},
   "outputs": [],
   "source": [
    "train_features = np.reshape(train_features, (8000, 4 * 4 * 512))\n",
    "validation_features = np.reshape(validation_features, (2000, 4 * 4 * 512))"
   ]
  },
  {
   "cell_type": "markdown",
   "metadata": {},
   "source": [
    "At this point, we can define our densely-connected classifier, and train it on the data and labels that we just recorded:"
   ]
  },
  {
   "cell_type": "code",
   "execution_count": 11,
   "metadata": {},
   "outputs": [],
   "source": [
    "model = models.Sequential()\n",
    "model.add(Dense(512, activation='relu', input_dim=4*4*512))\n",
    "model.add(Dropout(0.5))\n",
    "model.add(Dense(1, activation='sigmoid'))\n",
    "model.compile(optimizer=optimizers.RMSprop(lr=2e-5), loss='binary_crossentropy', metrics=['acc'])"
   ]
  },
  {
   "cell_type": "code",
   "execution_count": 12,
   "metadata": {},
   "outputs": [
    {
     "name": "stdout",
     "output_type": "stream",
     "text": [
      "Train on 8000 samples, validate on 2000 samples\n",
      "Epoch 1/20\n",
      "8000/8000 [==============================] - 12s 1ms/step - loss: 0.4595 - acc: 0.7749 - val_loss: 0.3254 - val_acc: 0.8740\n",
      "Epoch 2/20\n",
      "8000/8000 [==============================] - 11s 1ms/step - loss: 0.3176 - acc: 0.8637 - val_loss: 0.2916 - val_acc: 0.8745\n",
      "Epoch 3/20\n",
      "8000/8000 [==============================] - 11s 1ms/step - loss: 0.2761 - acc: 0.8810 - val_loss: 0.2674 - val_acc: 0.8905\n",
      "Epoch 4/20\n",
      "8000/8000 [==============================] - 11s 1ms/step - loss: 0.2502 - acc: 0.8956 - val_loss: 0.2521 - val_acc: 0.8960\n",
      "Epoch 5/20\n",
      "8000/8000 [==============================] - 11s 1ms/step - loss: 0.2332 - acc: 0.9029 - val_loss: 0.2434 - val_acc: 0.8990\n",
      "Epoch 6/20\n",
      "8000/8000 [==============================] - 11s 1ms/step - loss: 0.2223 - acc: 0.9078 - val_loss: 0.2379 - val_acc: 0.8980\n",
      "Epoch 7/20\n",
      "8000/8000 [==============================] - 11s 1ms/step - loss: 0.2090 - acc: 0.9124 - val_loss: 0.2363 - val_acc: 0.9025\n",
      "Epoch 8/20\n",
      "8000/8000 [==============================] - 12s 1ms/step - loss: 0.1995 - acc: 0.9183 - val_loss: 0.2307 - val_acc: 0.9015\n",
      "Epoch 9/20\n",
      "8000/8000 [==============================] - 12s 1ms/step - loss: 0.1909 - acc: 0.9237 - val_loss: 0.2276 - val_acc: 0.9015\n",
      "\n",
      "Epoch 00009: ReduceLROnPlateau reducing learning rate to 1e-05.\n",
      "Epoch 10/20\n",
      "8000/8000 [==============================] - 12s 1ms/step - loss: 0.1779 - acc: 0.9306 - val_loss: 0.2260 - val_acc: 0.9025\n",
      "Epoch 11/20\n",
      "8000/8000 [==============================] - 11s 1ms/step - loss: 0.1764 - acc: 0.9291 - val_loss: 0.2257 - val_acc: 0.9025\n",
      "Epoch 12/20\n",
      "8000/8000 [==============================] - 10s 1ms/step - loss: 0.1720 - acc: 0.9308 - val_loss: 0.2289 - val_acc: 0.9000\n",
      "Epoch 13/20\n",
      "8000/8000 [==============================] - 11s 1ms/step - loss: 0.1700 - acc: 0.9350 - val_loss: 0.2244 - val_acc: 0.9020\n",
      "Epoch 14/20\n",
      "8000/8000 [==============================] - 11s 1ms/step - loss: 0.1643 - acc: 0.9366 - val_loss: 0.2224 - val_acc: 0.9030\n",
      "Epoch 15/20\n",
      "8000/8000 [==============================] - 11s 1ms/step - loss: 0.1626 - acc: 0.9373 - val_loss: 0.2221 - val_acc: 0.9050\n",
      "Epoch 16/20\n",
      "8000/8000 [==============================] - 12s 1ms/step - loss: 0.1569 - acc: 0.9402 - val_loss: 0.2225 - val_acc: 0.9045\n",
      "Epoch 17/20\n",
      "8000/8000 [==============================] - 11s 1ms/step - loss: 0.1569 - acc: 0.9392 - val_loss: 0.2212 - val_acc: 0.9045\n",
      "Epoch 18/20\n",
      "8000/8000 [==============================] - 11s 1ms/step - loss: 0.1516 - acc: 0.9419 - val_loss: 0.2214 - val_acc: 0.9025\n",
      "Epoch 19/20\n",
      "8000/8000 [==============================] - 11s 1ms/step - loss: 0.1502 - acc: 0.9429 - val_loss: 0.2207 - val_acc: 0.9035\n",
      "Epoch 20/20\n",
      "8000/8000 [==============================] - 11s 1ms/step - loss: 0.1502 - acc: 0.9440 - val_loss: 0.2200 - val_acc: 0.9035\n",
      "Execution time 3.790953 minutes\n"
     ]
    }
   ],
   "source": [
    "start_time = time.time()     \n",
    "\n",
    "lr_plateau = ReduceLROnPlateau(\n",
    "    monitor='val_acc', \n",
    "    patience=2, \n",
    "    verbose=1, \n",
    "    factor=0.5, \n",
    "    min_lr=0.00001)\n",
    "\n",
    "history = model.fit(train_features, \n",
    "                    train_labels,\n",
    "                    epochs=20,\n",
    "                    batch_size=64,\n",
    "                    validation_data=(validation_features, validation_labels), \n",
    "                    callbacks=[lr_plateau])\n",
    "\n",
    "total_time = (time.time() - start_time)/60                                     \n",
    "print('Execution time {:2f} minutes'.format(total_time))    "
   ]
  },
  {
   "cell_type": "code",
   "execution_count": 13,
   "metadata": {},
   "outputs": [],
   "source": [
    "model.save('vgg16_pretrained.h5')"
   ]
  },
  {
   "cell_type": "code",
   "execution_count": 14,
   "metadata": {},
   "outputs": [
    {
     "data": {
      "text/plain": [
       "<matplotlib.legend.Legend at 0x13fc55750>"
      ]
     },
     "execution_count": 14,
     "metadata": {},
     "output_type": "execute_result"
    },
    {
     "data": {
      "image/png": "[encoded data removed]",
      "text/plain": [
       "<Figure size 720x576 with 2 Axes>"
      ]
     },
     "metadata": {
      "needs_background": "light"
     },
     "output_type": "display_data"
    }
   ],
   "source": [
    "fig, (ax0, ax1) = plt.subplots(2, 1, figsize=(10,8))\n",
    "\n",
    "history_dict = history.history\n",
    "epochs = range(1, len(history_dict['acc'])+1)\n",
    "\n",
    "ax0.plot(epochs, history_dict['loss'], 'firebrick', linewidth=3.0)\n",
    "ax0.plot(epochs, history_dict['val_loss'], 'midnightblue', linewidth=3.0)\n",
    "ax0.spines['top'].set_visible(False)\n",
    "ax0.spines['right'].set_visible(False)\n",
    "ax0.tick_params(bottom=False)\n",
    "ax0.set_xticklabels([])\n",
    "ax0.set_title('Loss curves: Pretrained VGG16')\n",
    "ax0.set_ylabel('Loss', fontsize=14)\n",
    "ax0.legend(['Training loss', 'Validation Loss'], loc='best')\n",
    "\n",
    "ax1.plot(epochs, history_dict['acc'], 'firebrick', linewidth=3.0)\n",
    "ax1.plot(epochs, history_dict['val_acc'], 'midnightblue' ,linewidth=3.0)\n",
    "ax1.spines['top'].set_visible(False)\n",
    "ax1.spines['right'].set_visible(False)\n",
    "ax1.set_title('Accuracy curves: Pretrained VGG16')\n",
    "ax1.set_xlabel('Epochs ', fontsize=14)\n",
    "ax1.set_ylabel('Accuracy', fontsize=14)\n",
    "ax1.legend(['Training Accuracy', 'Validation Accuracy'], loc='lower right')"
   ]
  },
  {
   "cell_type": "code",
   "execution_count": null,
   "metadata": {},
   "outputs": [],
   "source": []
  }
 ],
 "metadata": {
  "kernelspec": {
   "display_name": "Python 3",
   "language": "python",
   "name": "python3"
  },
  "language_info": {
   "codemirror_mode": {
    "name": "ipython",
    "version": 3
   },
   "file_extension": ".py",
   "mimetype": "text/x-python",
   "name": "python",
   "nbconvert_exporter": "python",
   "pygments_lexer": "ipython3",
   "version": "3.7.4"
  }
 },
 "nbformat": 4,
 "nbformat_minor": 2
}
