{
 "cells": [
  {
   "cell_type": "code",
   "execution_count": 25,
   "metadata": {},
   "outputs": [],
   "source": [
    "import os\n",
    "import pandas as pd\n",
    "import numpy as np\n",
    "import time\n",
    "\n",
    "from tensorflow.keras.preprocessing.image import ImageDataGenerator\n",
    "from tensorflow.keras.layers import Dense, Dropout\n",
    "from tensorflow.keras import models, optimizers\n",
    "from tensorflow.keras.applications import VGG16\n",
    "from tensorflow.keras.models import Sequential\n",
    "from tensorflow.keras.callbacks import ReduceLROnPlateau\n",
    "\n",
    "import matplotlib.pyplot as plt"
   ]
  },
  {
   "cell_type": "markdown",
   "metadata": {},
   "source": [
    "**Extend the naive solution**\n",
    "* Use VGG16 pretrained on ImageNet\n",
    "    * ImageNet dataset contains 1.4million labeled images and 1000 classess including different species of cats and dogs"
   ]
  },
  {
   "cell_type": "markdown",
   "metadata": {},
   "source": [
    "#### Read data\n",
    "\n",
    "The dataset has the following directory structure:\n",
    "\n",
    "<pre>\n",
    "<b>cats_and_dogs_filtered</b>\n",
    "|__ <b>train</b>\n",
    "    |______ <b>cats</b>: [cat.0.jpg, cat.1.jpg, cat.2.jpg ...]\n",
    "    |______ <b>dogs</b>: [dog.0.jpg, dog.1.jpg, dog.2.jpg ...]\n",
    "|__ <b>validation</b>\n",
    "    |______ <b>cats</b>: [cat.2000.jpg, cat.2001.jpg, cat.2002.jpg ...]\n",
    "    |______ <b>dogs</b>: [dog.2000.jpg, dog.2001.jpg, dog.2002.jpg ...]\n",
    "</pre>"
   ]
  },
  {
   "cell_type": "code",
   "execution_count": 26,
   "metadata": {},
   "outputs": [],
   "source": [
    "PATH = '/Users/fi000980702/Documents/Work/Chapter5/data/'\n",
    "train_dir = os.path.join(PATH, 'training')\n",
    "val_dir = os.path.join(PATH, 'validation')"
   ]
  },
  {
   "cell_type": "code",
   "execution_count": 27,
   "metadata": {},
   "outputs": [],
   "source": [
    "train_cats_dir = os.path.join(train_dir, 'cats')\n",
    "train_dogs_dir = os.path.join(train_dir, 'dogs')\n",
    "val_cats_dir = os.path.join(val_dir, 'cats')\n",
    "val_dogs_dir = os.path.join(val_dir, 'dogs')"
   ]
  },
  {
   "cell_type": "code",
   "execution_count": 28,
   "metadata": {},
   "outputs": [],
   "source": [
    "num_cats_train = len(os.listdir(train_cats_dir))\n",
    "num_dogs_train = len(os.listdir(train_dogs_dir))\n",
    "num_cats_val = len(os.listdir(val_cats_dir))\n",
    "num_dogs_val = len(os.listdir(val_dogs_dir))\n",
    "total_train = num_cats_train + num_dogs_train\n",
    "total_val = num_cats_val + num_dogs_val"
   ]
  },
  {
   "cell_type": "code",
   "execution_count": 29,
   "metadata": {},
   "outputs": [
    {
     "name": "stdout",
     "output_type": "stream",
     "text": [
      "total training cat images: 4000\n",
      "total training dog images: 4000\n",
      "total validation cat images: 1000\n",
      "total validation dog images: 1000\n",
      "--\n",
      "Total training images: 8000\n",
      "Total validation images: 2000\n"
     ]
    }
   ],
   "source": [
    "print('total training cat images:', num_cats_train)\n",
    "print('total training dog images:', num_dogs_train)\n",
    "\n",
    "print('total validation cat images:', num_cats_val)\n",
    "print('total validation dog images:', num_dogs_val)\n",
    "print(\"--\")\n",
    "print(\"Total training images:\", total_train)\n",
    "print(\"Total validation images:\", total_val)"
   ]
  },
  {
   "cell_type": "markdown",
   "metadata": {},
   "source": [
    "#### Pretrained VGG16 on ImageNet\n",
    "* We omit the densely connected layer because the representations learned by the convolutional layer are likely to be more generic and therefore more reusable whereas the representations learned by the classifier will necessarily be spesific to the set of classes on which the model was trained. Therefore we set ```include_top=False```"
   ]
  },
  {
   "cell_type": "code",
   "execution_count": 30,
   "metadata": {},
   "outputs": [],
   "source": [
    "image_height = 150\n",
    "image_width = 150\n",
    "channels = 3\n",
    "batch_size = 16\n",
    "epochs = 6"
   ]
  },
  {
   "cell_type": "code",
   "execution_count": 31,
   "metadata": {},
   "outputs": [
    {
     "name": "stdout",
     "output_type": "stream",
     "text": [
      "Model: \"vgg16\"\n",
      "_________________________________________________________________\n",
      "Layer (type)                 Output Shape              Param #   \n",
      "=================================================================\n",
      "input_2 (InputLayer)         [(None, 150, 150, 3)]     0         \n",
      "_________________________________________________________________\n",
      "block1_conv1 (Conv2D)        (None, 150, 150, 64)      1792      \n",
      "_________________________________________________________________\n",
      "block1_conv2 (Conv2D)        (None, 150, 150, 64)      36928     \n",
      "_________________________________________________________________\n",
      "block1_pool (MaxPooling2D)   (None, 75, 75, 64)        0         \n",
      "_________________________________________________________________\n",
      "block2_conv1 (Conv2D)        (None, 75, 75, 128)       73856     \n",
      "_________________________________________________________________\n",
      "block2_conv2 (Conv2D)        (None, 75, 75, 128)       147584    \n",
      "_________________________________________________________________\n",
      "block2_pool (MaxPooling2D)   (None, 37, 37, 128)       0         \n",
      "_________________________________________________________________\n",
      "block3_conv1 (Conv2D)        (None, 37, 37, 256)       295168    \n",
      "_________________________________________________________________\n",
      "block3_conv2 (Conv2D)        (None, 37, 37, 256)       590080    \n",
      "_________________________________________________________________\n",
      "block3_conv3 (Conv2D)        (None, 37, 37, 256)       590080    \n",
      "_________________________________________________________________\n",
      "block3_pool (MaxPooling2D)   (None, 18, 18, 256)       0         \n",
      "_________________________________________________________________\n",
      "block4_conv1 (Conv2D)        (None, 18, 18, 512)       1180160   \n",
      "_________________________________________________________________\n",
      "block4_conv2 (Conv2D)        (None, 18, 18, 512)       2359808   \n",
      "_________________________________________________________________\n",
      "block4_conv3 (Conv2D)        (None, 18, 18, 512)       2359808   \n",
      "_________________________________________________________________\n",
      "block4_pool (MaxPooling2D)   (None, 9, 9, 512)         0         \n",
      "_________________________________________________________________\n",
      "block5_conv1 (Conv2D)        (None, 9, 9, 512)         2359808   \n",
      "_________________________________________________________________\n",
      "block5_conv2 (Conv2D)        (None, 9, 9, 512)         2359808   \n",
      "_________________________________________________________________\n",
      "block5_conv3 (Conv2D)        (None, 9, 9, 512)         2359808   \n",
      "_________________________________________________________________\n",
      "block5_pool (MaxPooling2D)   (None, 4, 4, 512)         0         \n",
      "_________________________________________________________________\n",
      "global_max_pooling2d_1 (Glob (None, 512)               0         \n",
      "=================================================================\n",
      "Total params: 14,714,688\n",
      "Trainable params: 14,714,688\n",
      "Non-trainable params: 0\n",
      "_________________________________________________________________\n"
     ]
    }
   ],
   "source": [
    "conv_base = VGG16(\n",
    "    weights='imagenet', \n",
    "    include_top=False, \n",
    "    input_shape=(image_height, image_width, channels),\n",
    "    pooling='max')\n",
    "conv_base.summary()"
   ]
  },
  {
   "cell_type": "code",
   "execution_count": 32,
   "metadata": {},
   "outputs": [],
   "source": [
    "# Set up augmentation configuration\n",
    "train_datagen = ImageDataGenerator(\n",
    "    rescale=1./255, \n",
    "    rotation_range=40, \n",
    "    width_shift_range=0.2, \n",
    "    height_shift_range=0.2, \n",
    "    shear_range=0.2, \n",
    "    zoom_range=0.2, \n",
    "    horizontal_flip=True,\n",
    "    fill_mode='nearest') \n",
    "\n",
    "# Validation data will not augmented\n",
    "val_datagen = ImageDataGenerator(rescale=1./255) "
   ]
  },
  {
   "cell_type": "code",
   "execution_count": 33,
   "metadata": {},
   "outputs": [
    {
     "name": "stdout",
     "output_type": "stream",
     "text": [
      "Found 8000 images belonging to 2 classes.\n",
      "Found 2000 images belonging to 2 classes.\n"
     ]
    }
   ],
   "source": [
    "train_generator = train_datagen.flow_from_directory(\n",
    "    train_dir, \n",
    "    target_size=(image_width, image_height),\n",
    "    batch_size=batch_size,\n",
    "    shuffle=True,\n",
    "    class_mode='binary')\n",
    "\n",
    "val_generator = val_datagen.flow_from_directory(\n",
    "    val_dir, \n",
    "    target_size=(image_width, image_height), \n",
    "    batch_size=batch_size,\n",
    "    shuffle=False,\n",
    "    class_mode='binary')"
   ]
  },
  {
   "cell_type": "markdown",
   "metadata": {},
   "source": [
    "Before we compile and train our model, a very important thing to do is to freeze the convolutional base. \"Freezing\" a layer or set of layers means preventing their weights from getting updated during training. If we don't do this, then the representations that were previously learned by the convolutional base would get modified during training. \n",
    "\n",
    "Additionally, we will fine-tune the last 3 convolutional layers, which means that all layers up until **block4_pool** should be frozen, and the layers **block5_conv1, block5_conv2 and block5_conv3** should be trainable. We fine-fune only the last three layers because earlier layers in the convolutional base encode more generic, reusable features, while layers higher up encode more specialized features. Therefore, it is more useful to fine-tune the more specialized features, as these are the ones that need to be repurposed on our new problem."
   ]
  },
  {
   "cell_type": "code",
   "execution_count": 34,
   "metadata": {},
   "outputs": [],
   "source": [
    "conv_base.trainable = True\n",
    "\n",
    "set_trainable = False\n",
    "for layer in conv_base.layers:\n",
    "    if layer.name == 'block5_conv1':\n",
    "        set_trainable = True\n",
    "    if set_trainable:\n",
    "        layer.trainable = True\n",
    "    else:\n",
    "        layer.trainable = False"
   ]
  },
  {
   "cell_type": "code",
   "execution_count": 35,
   "metadata": {},
   "outputs": [
    {
     "name": "stdout",
     "output_type": "stream",
     "text": [
      "Model: \"sequential_1\"\n",
      "_________________________________________________________________\n",
      "Layer (type)                 Output Shape              Param #   \n",
      "=================================================================\n",
      "block1_conv1 (Conv2D)        (None, 150, 150, 64)      1792      \n",
      "_________________________________________________________________\n",
      "block1_conv2 (Conv2D)        (None, 150, 150, 64)      36928     \n",
      "_________________________________________________________________\n",
      "block1_pool (MaxPooling2D)   (None, 75, 75, 64)        0         \n",
      "_________________________________________________________________\n",
      "block2_conv1 (Conv2D)        (None, 75, 75, 128)       73856     \n",
      "_________________________________________________________________\n",
      "block2_conv2 (Conv2D)        (None, 75, 75, 128)       147584    \n",
      "_________________________________________________________________\n",
      "block2_pool (MaxPooling2D)   (None, 37, 37, 128)       0         \n",
      "_________________________________________________________________\n",
      "block3_conv1 (Conv2D)        (None, 37, 37, 256)       295168    \n",
      "_________________________________________________________________\n",
      "block3_conv2 (Conv2D)        (None, 37, 37, 256)       590080    \n",
      "_________________________________________________________________\n",
      "block3_conv3 (Conv2D)        (None, 37, 37, 256)       590080    \n",
      "_________________________________________________________________\n",
      "block3_pool (MaxPooling2D)   (None, 18, 18, 256)       0         \n",
      "_________________________________________________________________\n",
      "block4_conv1 (Conv2D)        (None, 18, 18, 512)       1180160   \n",
      "_________________________________________________________________\n",
      "block4_conv2 (Conv2D)        (None, 18, 18, 512)       2359808   \n",
      "_________________________________________________________________\n",
      "block4_conv3 (Conv2D)        (None, 18, 18, 512)       2359808   \n",
      "_________________________________________________________________\n",
      "block4_pool (MaxPooling2D)   (None, 9, 9, 512)         0         \n",
      "_________________________________________________________________\n",
      "block5_conv1 (Conv2D)        (None, 9, 9, 512)         2359808   \n",
      "_________________________________________________________________\n",
      "block5_conv2 (Conv2D)        (None, 9, 9, 512)         2359808   \n",
      "_________________________________________________________________\n",
      "block5_conv3 (Conv2D)        (None, 9, 9, 512)         2359808   \n",
      "_________________________________________________________________\n",
      "block5_pool (MaxPooling2D)   (None, 4, 4, 512)         0         \n",
      "_________________________________________________________________\n",
      "global_max_pooling2d_1 (Glob (None, 512)               0         \n",
      "_________________________________________________________________\n",
      "dropout_2 (Dropout)          (None, 512)               0         \n",
      "_________________________________________________________________\n",
      "dense_2 (Dense)              (None, 256)               131328    \n",
      "_________________________________________________________________\n",
      "dropout_3 (Dropout)          (None, 256)               0         \n",
      "_________________________________________________________________\n",
      "dense_3 (Dense)              (None, 1)                 257       \n",
      "=================================================================\n",
      "Total params: 14,846,273\n",
      "Trainable params: 7,211,009\n",
      "Non-trainable params: 7,635,264\n",
      "_________________________________________________________________\n"
     ]
    }
   ],
   "source": [
    "model = Sequential()\n",
    "for layer in conv_base.layers:\n",
    "    model.add(layer)\n",
    "model.add(Dropout(0.2))\n",
    "model.add(Dense(256, activation='relu'))\n",
    "model.add(Dropout(0.5))\n",
    "model.add(Dense(1, activation='sigmoid'))\n",
    "\n",
    "rmsprop = optimizers.RMSprop(lr=2e-5, decay=1e-5)\n",
    "model.compile(optimizer=rmsprop, loss='binary_crossentropy', metrics=['acc'])\n",
    "model.summary()"
   ]
  },
  {
   "cell_type": "markdown",
   "metadata": {},
   "source": [
    "Below we saa that the last three convolutional layers in addition to the dense layers are all trainable whereas the preceeding layers are frozen."
   ]
  },
  {
   "cell_type": "code",
   "execution_count": 36,
   "metadata": {},
   "outputs": [
    {
     "name": "stdout",
     "output_type": "stream",
     "text": [
      "<tensorflow.python.keras.layers.convolutional.Conv2D object at 0x13fcaf8d0> False\n",
      "<tensorflow.python.keras.layers.convolutional.Conv2D object at 0x13fcaff50> False\n",
      "<tensorflow.python.keras.layers.pooling.MaxPooling2D object at 0x13fcb3e90> False\n",
      "<tensorflow.python.keras.layers.convolutional.Conv2D object at 0x13df7ced0> False\n",
      "<tensorflow.python.keras.layers.convolutional.Conv2D object at 0x13d7c81d0> False\n",
      "<tensorflow.python.keras.layers.pooling.MaxPooling2D object at 0x13fcdd750> False\n",
      "<tensorflow.python.keras.layers.convolutional.Conv2D object at 0x13fce6cd0> False\n",
      "<tensorflow.python.keras.layers.convolutional.Conv2D object at 0x13d7dfed0> False\n",
      "<tensorflow.python.keras.layers.convolutional.Conv2D object at 0x13fd06910> False\n",
      "<tensorflow.python.keras.layers.pooling.MaxPooling2D object at 0x13fd74790> False\n",
      "<tensorflow.python.keras.layers.convolutional.Conv2D object at 0x13fd7ccd0> False\n",
      "<tensorflow.python.keras.layers.convolutional.Conv2D object at 0x13fd93b50> False\n",
      "<tensorflow.python.keras.layers.convolutional.Conv2D object at 0x140155c90> False\n",
      "<tensorflow.python.keras.layers.pooling.MaxPooling2D object at 0x140157a10> False\n",
      "<tensorflow.python.keras.layers.convolutional.Conv2D object at 0x14016ec50> True\n",
      "<tensorflow.python.keras.layers.convolutional.Conv2D object at 0x140193910> True\n",
      "<tensorflow.python.keras.layers.convolutional.Conv2D object at 0x140193ad0> True\n",
      "<tensorflow.python.keras.layers.pooling.MaxPooling2D object at 0x1401b6750> True\n",
      "<tensorflow.python.keras.layers.pooling.GlobalMaxPooling2D object at 0x1401bed10> True\n",
      "<tensorflow.python.keras.layers.core.Dropout object at 0x13dc5f6d0> True\n",
      "<tensorflow.python.keras.layers.core.Dense object at 0x13dc5f810> True\n",
      "<tensorflow.python.keras.layers.core.Dropout object at 0x1400399d0> True\n",
      "<tensorflow.python.keras.layers.core.Dense object at 0x1400740d0> True\n"
     ]
    }
   ],
   "source": [
    "for layer in model.layers:\n",
    "    print(layer, layer.trainable)"
   ]
  },
  {
   "cell_type": "code",
   "execution_count": 37,
   "metadata": {},
   "outputs": [
    {
     "name": "stdout",
     "output_type": "stream",
     "text": [
      "Epoch 1/6\n",
      "500/500 [==============================] - 5465s 11s/step - loss: 0.4347 - acc: 0.7910 - val_loss: 0.2120 - val_acc: 0.9160\n",
      "Epoch 2/6\n",
      "500/500 [==============================] - 5073s 10s/step - loss: 0.2880 - acc: 0.8771 - val_loss: 0.2019 - val_acc: 0.9270\n",
      "Epoch 3/6\n",
      "499/500 [============================>.] - ETA: 8s - loss: 0.2390 - acc: 0.8999 \n",
      "Epoch 00003: ReduceLROnPlateau reducing learning rate to 1e-05.\n",
      "500/500 [==============================] - 4784s 10s/step - loss: 0.2393 - acc: 0.8997 - val_loss: 0.2053 - val_acc: 0.9250\n",
      "Epoch 4/6\n",
      "500/500 [==============================] - 4791s 10s/step - loss: 0.2086 - acc: 0.9155 - val_loss: 0.2300 - val_acc: 0.9175\n",
      "Epoch 5/6\n",
      "500/500 [==============================] - 5206s 10s/step - loss: 0.1921 - acc: 0.9246 - val_loss: 0.1706 - val_acc: 0.9420\n",
      "Epoch 6/6\n",
      "500/500 [==============================] - 5362s 11s/step - loss: 0.1897 - acc: 0.9230 - val_loss: 0.1449 - val_acc: 0.9485\n",
      "Execution time 511.362030 minutes\n"
     ]
    }
   ],
   "source": [
    "start_time = time.time()     \n",
    "\n",
    "lr_plateau = ReduceLROnPlateau(\n",
    "    monitor='val_loss', \n",
    "    patience=1, \n",
    "    verbose=1, \n",
    "    factor=0.2, \n",
    "    min_lr=1e-5)\n",
    "\n",
    "history = model.fit_generator(\n",
    "    train_generator, \n",
    "    steps_per_epoch=total_train//batch_size, \n",
    "    epochs=epochs,\n",
    "    validation_data=val_generator, \n",
    "    validation_steps=total_val//batch_size,\n",
    "    callbacks=[lr_plateau])\n",
    "\n",
    "total_time = (time.time() - start_time)/60                                     \n",
    "print('Execution time {:2f} minutes'.format(total_time))   "
   ]
  },
  {
   "cell_type": "code",
   "execution_count": 38,
   "metadata": {},
   "outputs": [],
   "source": [
    "model.save('VGG16_binary_w_aug.h5')"
   ]
  },
  {
   "cell_type": "code",
   "execution_count": 39,
   "metadata": {},
   "outputs": [
    {
     "data": {
      "text/plain": [
       "<matplotlib.legend.Legend at 0x13c8ea150>"
      ]
     },
     "execution_count": 39,
     "metadata": {},
     "output_type": "execute_result"
    },
    {
     "data": {
      "image/png": "[encoded data removed]",
      "text/plain": [
       "<Figure size 720x576 with 2 Axes>"
      ]
     },
     "metadata": {
      "needs_background": "light"
     },
     "output_type": "display_data"
    }
   ],
   "source": [
    "fig, (ax0, ax1) = plt.subplots(2, 1, figsize=(10,8))\n",
    "\n",
    "history_dict = history.history\n",
    "epochs = range(1, len(history_dict['acc'])+1)\n",
    "\n",
    "ax0.plot(epochs, history_dict['loss'], 'firebrick', linewidth=3.0)\n",
    "ax0.plot(epochs, history_dict['val_loss'], 'midnightblue', linewidth=3.0)\n",
    "ax0.spines['top'].set_visible(False)\n",
    "ax0.spines['right'].set_visible(False)\n",
    "ax0.tick_params(bottom=False)\n",
    "ax0.set_xticklabels([])\n",
    "ax0.set_title('Loss curves: Pretrained VGG16')\n",
    "ax0.set_ylabel('Loss', fontsize=14)\n",
    "ax0.legend(['Training loss', 'Validation Loss'], loc='best')\n",
    "\n",
    "ax1.plot(epochs, history_dict['acc'], 'firebrick', linewidth=3.0)\n",
    "ax1.plot(epochs, history_dict['val_acc'], 'midnightblue' ,linewidth=3.0)\n",
    "ax1.spines['top'].set_visible(False)\n",
    "ax1.spines['right'].set_visible(False)\n",
    "ax1.set_title('Accuracy curves: Pretrained VGG16')\n",
    "ax1.set_xlabel('Epochs ', fontsize=14)\n",
    "ax1.set_ylabel('Accuracy', fontsize=14)\n",
    "ax1.legend(['Training Accuracy', 'Validation Accuracy'], loc='lower right')"
   ]
  },
  {
   "cell_type": "code",
   "execution_count": null,
   "metadata": {},
   "outputs": [],
   "source": []
  }
 ],
 "metadata": {
  "kernelspec": {
   "display_name": "Python 3",
   "language": "python",
   "name": "python3"
  },
  "language_info": {
   "codemirror_mode": {
    "name": "ipython",
    "version": 3
   },
   "file_extension": ".py",
   "mimetype": "text/x-python",
   "name": "python",
   "nbconvert_exporter": "python",
   "pygments_lexer": "ipython3",
   "version": "3.7.4"
  }
 },
 "nbformat": 4,
 "nbformat_minor": 2
}
