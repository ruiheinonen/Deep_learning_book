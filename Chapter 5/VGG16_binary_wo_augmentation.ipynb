{
 "cells": [
  {
   "cell_type": "code",
   "execution_count": 1,
   "metadata": {},
   "outputs": [
    {
     "name": "stderr",
     "output_type": "stream",
     "text": [
      "Using TensorFlow backend.\n"
     ]
    }
   ],
   "source": [
    "import os\n",
    "import pandas as pd\n",
    "import numpy as np\n",
    "import time\n",
    "\n",
    "from keras.preprocessing.image import ImageDataGenerator\n",
    "from keras.layers import Dense, Dropout\n",
    "from keras import models, optimizers\n",
    "from keras.applications import VGG16\n",
    "\n",
    "import matplotlib.pyplot as plt"
   ]
  },
  {
   "cell_type": "markdown",
   "metadata": {},
   "source": [
    "**Extend the naive solution**\n",
    "* Use VGG16 pretrained on ImageNet\n",
    "    * ImageNet dataset contains 1.4million labeled images and 1000 classess including different species of cats and dogs"
   ]
  },
  {
   "cell_type": "markdown",
   "metadata": {},
   "source": [
    "#### Read data\n",
    "\n",
    "The dataset has the following directory structure:\n",
    "\n",
    "<pre>\n",
    "<b>cats_and_dogs_filtered</b>\n",
    "|__ <b>train</b>\n",
    "    |______ <b>cats</b>: [cat.0.jpg, cat.1.jpg, cat.2.jpg ...]\n",
    "    |______ <b>dogs</b>: [dog.0.jpg, dog.1.jpg, dog.2.jpg ...]\n",
    "|__ <b>validation</b>\n",
    "    |______ <b>cats</b>: [cat.2000.jpg, cat.2001.jpg, cat.2002.jpg ...]\n",
    "    |______ <b>dogs</b>: [dog.2000.jpg, dog.2001.jpg, dog.2002.jpg ...]\n",
    "</pre>"
   ]
  },
  {
   "cell_type": "code",
   "execution_count": 2,
   "metadata": {},
   "outputs": [],
   "source": [
    "PATH = '/Users/fi000980702/Documents/Work/Chapter5/data/'\n",
    "train_dir = os.path.join(PATH, 'training')\n",
    "val_dir = os.path.join(PATH, 'validation')"
   ]
  },
  {
   "cell_type": "code",
   "execution_count": 3,
   "metadata": {},
   "outputs": [],
   "source": [
    "train_cats_dir = os.path.join(train_dir, 'cats')\n",
    "train_dogs_dir = os.path.join(train_dir, 'dogs')\n",
    "val_cats_dir = os.path.join(val_dir, 'cats')\n",
    "val_dogs_dir = os.path.join(val_dir, 'dogs')"
   ]
  },
  {
   "cell_type": "code",
   "execution_count": 4,
   "metadata": {},
   "outputs": [],
   "source": [
    "num_cats_train = len(os.listdir(train_cats_dir))\n",
    "num_dogs_train = len(os.listdir(train_dogs_dir))\n",
    "num_cats_val = len(os.listdir(val_cats_dir))\n",
    "num_dogs_val = len(os.listdir(val_dogs_dir))\n",
    "total_train = num_cats_train + num_dogs_train\n",
    "total_val = num_cats_val + num_dogs_val"
   ]
  },
  {
   "cell_type": "code",
   "execution_count": 5,
   "metadata": {},
   "outputs": [
    {
     "name": "stdout",
     "output_type": "stream",
     "text": [
      "total training cat images: 4000\n",
      "total training dog images: 4000\n",
      "total validation cat images: 1000\n",
      "total validation dog images: 1000\n",
      "--\n",
      "Total training images: 8000\n",
      "Total validation images: 2000\n"
     ]
    }
   ],
   "source": [
    "print('total training cat images:', num_cats_train)\n",
    "print('total training dog images:', num_dogs_train)\n",
    "\n",
    "print('total validation cat images:', num_cats_val)\n",
    "print('total validation dog images:', num_dogs_val)\n",
    "print(\"--\")\n",
    "print(\"Total training images:\", total_train)\n",
    "print(\"Total validation images:\", total_val)"
   ]
  },
  {
   "cell_type": "markdown",
   "metadata": {},
   "source": [
    "#### Pretrained VGG16 on ImageNet\n",
    "* We omit the densely connected layer because the representations learned by the convolutional layer are likely to be more generic and therefore more reusable whereas the representations learned by the classifier will necessarily be spesific to the set of classes on which the model was trained. Therefore we set ```include_top=False```"
   ]
  },
  {
   "cell_type": "code",
   "execution_count": 6,
   "metadata": {},
   "outputs": [],
   "source": [
    "image_height = 224\n",
    "image_width = 224\n",
    "channels = 3\n",
    "batch_size = 16\n",
    "epochs = 10"
   ]
  },
  {
   "cell_type": "code",
   "execution_count": 7,
   "metadata": {},
   "outputs": [
    {
     "name": "stdout",
     "output_type": "stream",
     "text": [
      "Model: \"vgg16\"\n",
      "_________________________________________________________________\n",
      "Layer (type)                 Output Shape              Param #   \n",
      "=================================================================\n",
      "input_1 (InputLayer)         (None, 224, 224, 3)       0         \n",
      "_________________________________________________________________\n",
      "block1_conv1 (Conv2D)        (None, 224, 224, 64)      1792      \n",
      "_________________________________________________________________\n",
      "block1_conv2 (Conv2D)        (None, 224, 224, 64)      36928     \n",
      "_________________________________________________________________\n",
      "block1_pool (MaxPooling2D)   (None, 112, 112, 64)      0         \n",
      "_________________________________________________________________\n",
      "block2_conv1 (Conv2D)        (None, 112, 112, 128)     73856     \n",
      "_________________________________________________________________\n",
      "block2_conv2 (Conv2D)        (None, 112, 112, 128)     147584    \n",
      "_________________________________________________________________\n",
      "block2_pool (MaxPooling2D)   (None, 56, 56, 128)       0         \n",
      "_________________________________________________________________\n",
      "block3_conv1 (Conv2D)        (None, 56, 56, 256)       295168    \n",
      "_________________________________________________________________\n",
      "block3_conv2 (Conv2D)        (None, 56, 56, 256)       590080    \n",
      "_________________________________________________________________\n",
      "block3_conv3 (Conv2D)        (None, 56, 56, 256)       590080    \n",
      "_________________________________________________________________\n",
      "block3_pool (MaxPooling2D)   (None, 28, 28, 256)       0         \n",
      "_________________________________________________________________\n",
      "block4_conv1 (Conv2D)        (None, 28, 28, 512)       1180160   \n",
      "_________________________________________________________________\n",
      "block4_conv2 (Conv2D)        (None, 28, 28, 512)       2359808   \n",
      "_________________________________________________________________\n",
      "block4_conv3 (Conv2D)        (None, 28, 28, 512)       2359808   \n",
      "_________________________________________________________________\n",
      "block4_pool (MaxPooling2D)   (None, 14, 14, 512)       0         \n",
      "_________________________________________________________________\n",
      "block5_conv1 (Conv2D)        (None, 14, 14, 512)       2359808   \n",
      "_________________________________________________________________\n",
      "block5_conv2 (Conv2D)        (None, 14, 14, 512)       2359808   \n",
      "_________________________________________________________________\n",
      "block5_conv3 (Conv2D)        (None, 14, 14, 512)       2359808   \n",
      "_________________________________________________________________\n",
      "block5_pool (MaxPooling2D)   (None, 7, 7, 512)         0         \n",
      "=================================================================\n",
      "Total params: 14,714,688\n",
      "Trainable params: 14,714,688\n",
      "Non-trainable params: 0\n",
      "_________________________________________________________________\n"
     ]
    }
   ],
   "source": [
    "conv_base = VGG16(\n",
    "    weights='imagenet', \n",
    "    include_top=False, \n",
    "    input_shape=(image_height, image_width, channels))\n",
    "conv_base.summary()"
   ]
  },
  {
   "cell_type": "code",
   "execution_count": 8,
   "metadata": {},
   "outputs": [],
   "source": [
    "datagen = ImageDataGenerator(rescale=1./255)"
   ]
  },
  {
   "cell_type": "code",
   "execution_count": 9,
   "metadata": {},
   "outputs": [],
   "source": [
    "batch_size = 20\n",
    "\n",
    "def extract_features(directory, sample_count):\n",
    "    features = np.zeros(shape=(sample_count, 7, 7, 512))\n",
    "    labels = np.zeros(shape=(sample_count))\n",
    "    generator = datagen.flow_from_directory(\n",
    "        directory,\n",
    "        target_size=(image_height, image_width),\n",
    "        batch_size=batch_size,\n",
    "        class_mode='binary')\n",
    "    \n",
    "    i = 0\n",
    "    for inputs_batch, labels_batch in generator:\n",
    "        features_batch = conv_base.predict(inputs_batch)\n",
    "        features[i*batch_size: (i+1)*batch_size]=features_batch\n",
    "        labels[i*batch_size: (i+1)*batch_size]=labels_batch\n",
    "        i += 1\n",
    "        if i*batch_size>=sample_count:\n",
    "            break\n",
    "    return features, labels"
   ]
  },
  {
   "cell_type": "code",
   "execution_count": 10,
   "metadata": {},
   "outputs": [
    {
     "name": "stdout",
     "output_type": "stream",
     "text": [
      "Found 8000 images belonging to 2 classes.\n",
      "Found 2000 images belonging to 2 classes.\n"
     ]
    }
   ],
   "source": [
    "train_features, train_labels = extract_features(train_dir, 8000)\n",
    "validation_features, validation_labels = extract_features(val_dir, 2000)"
   ]
  },
  {
   "cell_type": "code",
   "execution_count": 11,
   "metadata": {},
   "outputs": [],
   "source": [
    "train_features = np.reshape(train_features, (8000, 7*7*512))\n",
    "validation_features = np.reshape(validation_features, (2000, 7*7*512))"
   ]
  },
  {
   "cell_type": "markdown",
   "metadata": {},
   "source": [
    "At this point, we can define our densely-connected classifier, and train it on the data and labels that we just recorded:"
   ]
  },
  {
   "cell_type": "code",
   "execution_count": 13,
   "metadata": {},
   "outputs": [
    {
     "name": "stdout",
     "output_type": "stream",
     "text": [
      "Train on 8000 samples, validate on 2000 samples\n",
      "Epoch 1/15\n",
      "8000/8000 [==============================] - 62s 8ms/step - loss: 0.3810 - acc: 0.8191 - val_loss: 0.2750 - val_acc: 0.8770\n",
      "Epoch 2/15\n",
      "8000/8000 [==============================] - 56s 7ms/step - loss: 0.2403 - acc: 0.8991 - val_loss: 0.2309 - val_acc: 0.9000\n",
      "Epoch 3/15\n",
      "8000/8000 [==============================] - 54s 7ms/step - loss: 0.1967 - acc: 0.9205 - val_loss: 0.2001 - val_acc: 0.9195\n",
      "Epoch 4/15\n",
      "8000/8000 [==============================] - 54s 7ms/step - loss: 0.1749 - acc: 0.9315 - val_loss: 0.1889 - val_acc: 0.9255\n",
      "Epoch 5/15\n",
      "8000/8000 [==============================] - 54s 7ms/step - loss: 0.1550 - acc: 0.9355 - val_loss: 0.1889 - val_acc: 0.9240\n",
      "Epoch 6/15\n",
      "8000/8000 [==============================] - 55s 7ms/step - loss: 0.1421 - acc: 0.9451 - val_loss: 0.1893 - val_acc: 0.9245\n",
      "Epoch 7/15\n",
      "8000/8000 [==============================] - 55s 7ms/step - loss: 0.1277 - acc: 0.9514 - val_loss: 0.1774 - val_acc: 0.9275\n",
      "Epoch 8/15\n",
      "8000/8000 [==============================] - 64s 8ms/step - loss: 0.1185 - acc: 0.9546 - val_loss: 0.1788 - val_acc: 0.9295\n",
      "Epoch 9/15\n",
      "8000/8000 [==============================] - 65s 8ms/step - loss: 0.1090 - acc: 0.9582 - val_loss: 0.1738 - val_acc: 0.9285\n",
      "Epoch 10/15\n",
      "8000/8000 [==============================] - 61s 8ms/step - loss: 0.1004 - acc: 0.9630 - val_loss: 0.1815 - val_acc: 0.9235\n",
      "Epoch 11/15\n",
      "8000/8000 [==============================] - 63s 8ms/step - loss: 0.0915 - acc: 0.9685 - val_loss: 0.1693 - val_acc: 0.9355\n",
      "Epoch 12/15\n",
      "8000/8000 [==============================] - 55s 7ms/step - loss: 0.0854 - acc: 0.9712 - val_loss: 0.1764 - val_acc: 0.9285\n",
      "Epoch 13/15\n",
      "8000/8000 [==============================] - 56s 7ms/step - loss: 0.0783 - acc: 0.9726 - val_loss: 0.1710 - val_acc: 0.9350\n",
      "Epoch 14/15\n",
      "8000/8000 [==============================] - 59s 7ms/step - loss: 0.0764 - acc: 0.9721 - val_loss: 0.1692 - val_acc: 0.9335\n",
      "Epoch 15/15\n",
      "8000/8000 [==============================] - 65s 8ms/step - loss: 0.0707 - acc: 0.9768 - val_loss: 0.1703 - val_acc: 0.9335\n"
     ]
    }
   ],
   "source": [
    "model = models.Sequential()\n",
    "model.add(Dense(512, activation='relu', input_dim=7*7*512))\n",
    "model.add(Dropout(0.5))\n",
    "model.add(Dense(1, activation='sigmoid'))\n",
    "\n",
    "rmsprop=optimizers.RMSprop(lr=1e-5, decay=1e-5)\n",
    "model.compile(optimizer=rmsprop, loss='binary_crossentropy', metrics=['acc'])\n",
    "\n",
    "history = model.fit(train_features, train_labels,\n",
    "                    epochs=15,\n",
    "                    batch_size=20,\n",
    "                    validation_data=(validation_features, validation_labels))"
   ]
  },
  {
   "cell_type": "code",
   "execution_count": 14,
   "metadata": {},
   "outputs": [],
   "source": [
    "model.save('VGG16_binary_wo_aug.h5')"
   ]
  },
  {
   "cell_type": "code",
   "execution_count": 15,
   "metadata": {},
   "outputs": [
    {
     "data": {
      "text/plain": [
       "<matplotlib.legend.Legend at 0x13c7d8c10>"
      ]
     },
     "execution_count": 15,
     "metadata": {},
     "output_type": "execute_result"
    },
    {
     "data": {
      "image/png": "[encoded data removed]",
      "text/plain": [
       "<Figure size 720x576 with 2 Axes>"
      ]
     },
     "metadata": {
      "needs_background": "light"
     },
     "output_type": "display_data"
    }
   ],
   "source": [
    "fig, (ax0, ax1) = plt.subplots(2, 1, figsize=(10,8))\n",
    "\n",
    "history_dict = history.history\n",
    "epochs = range(1, len(history_dict['acc'])+1)\n",
    "\n",
    "ax0.plot(epochs, history_dict['loss'], 'firebrick', linewidth=3.0)\n",
    "ax0.plot(epochs, history_dict['val_loss'], 'midnightblue', linewidth=3.0)\n",
    "ax0.spines['top'].set_visible(False)\n",
    "ax0.spines['right'].set_visible(False)\n",
    "ax0.tick_params(bottom=False)\n",
    "ax0.set_xticklabels([])\n",
    "ax0.set_title('Loss curves: Pretrained VGG16')\n",
    "ax0.set_ylabel('Loss', fontsize=14)\n",
    "ax0.legend(['Training loss', 'Validation Loss'], loc='best')\n",
    "\n",
    "ax1.plot(epochs, history_dict['acc'], 'firebrick', linewidth=3.0)\n",
    "ax1.plot(epochs, history_dict['val_acc'], 'midnightblue' ,linewidth=3.0)\n",
    "ax1.spines['top'].set_visible(False)\n",
    "ax1.spines['right'].set_visible(False)\n",
    "ax1.set_title('Accuracy curves: Pretrained VGG16')\n",
    "ax1.set_xlabel('Epochs ', fontsize=14)\n",
    "ax1.set_ylabel('Accuracy', fontsize=14)\n",
    "ax1.legend(['Training Accuracy', 'Validation Accuracy'], loc='lower right')"
   ]
  },
  {
   "cell_type": "code",
   "execution_count": null,
   "metadata": {},
   "outputs": [],
   "source": []
  }
 ],
 "metadata": {
  "kernelspec": {
   "display_name": "Python 3",
   "language": "python",
   "name": "python3"
  },
  "language_info": {
   "codemirror_mode": {
    "name": "ipython",
    "version": 3
   },
   "file_extension": ".py",
   "mimetype": "text/x-python",
   "name": "python",
   "nbconvert_exporter": "python",
   "pygments_lexer": "ipython3",
   "version": "3.7.4"
  }
 },
 "nbformat": 4,
 "nbformat_minor": 2
}
