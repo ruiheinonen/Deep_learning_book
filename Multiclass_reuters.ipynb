{
 "cells": [
  {
   "cell_type": "markdown",
   "metadata": {},
   "source": [
    "#### Simple single-label multiclass news topic classification"
   ]
  },
  {
   "cell_type": "code",
   "execution_count": 38,
   "metadata": {},
   "outputs": [],
   "source": [
    "from keras.datasets import reuters\n",
    "from keras.utils.np_utils import to_categorical\n",
    "from keras import models\n",
    "from keras import layers\n",
    "\n",
    "import matplotlib.pyplot as plt\n",
    "import numpy as np"
   ]
  },
  {
   "cell_type": "code",
   "execution_count": 23,
   "metadata": {},
   "outputs": [],
   "source": [
    "(train_data, train_labels), (test_data, test_labels) = reuters.load_data(num_words=10000) #10k most freq occuring words"
   ]
  },
  {
   "cell_type": "code",
   "execution_count": 24,
   "metadata": {},
   "outputs": [
    {
     "data": {
      "text/plain": [
       "9999"
      ]
     },
     "execution_count": 24,
     "metadata": {},
     "output_type": "execute_result"
    }
   ],
   "source": [
    "max([max(sequence) for sequence in train_data]) #longest seq"
   ]
  },
  {
   "cell_type": "code",
   "execution_count": 25,
   "metadata": {},
   "outputs": [],
   "source": [
    "# Set spesific indices of an all-zero matrix to 1s\n",
    "def vectorize_sequences(sequences, dimension=10000):\n",
    "    results = np.zeros((len(sequences), dimension))\n",
    "    for i, sequence in enumerate(sequences):\n",
    "        results[i, sequence]=1\n",
    "    return results"
   ]
  },
  {
   "cell_type": "code",
   "execution_count": 32,
   "metadata": {},
   "outputs": [],
   "source": [
    "# Embed each label as an all-zero matrix with a 1 in place of the label index\n",
    "def to_one_hot(labels, dimension=46):\n",
    "    results = np.zeros((len(labels), dimension))\n",
    "    for i, label in enumerate(labels):\n",
    "        results[i, label]=1\n",
    "    return results"
   ]
  },
  {
   "cell_type": "code",
   "execution_count": 33,
   "metadata": {},
   "outputs": [],
   "source": [
    "# Vectorize data\n",
    "X_train = vectorize_sequences(train_data)\n",
    "X_test = vectorize_sequences(test_data)\n",
    "y_train = to_one_hot(train_labels)\n",
    "y_test = to_one_hot(test_labels)"
   ]
  },
  {
   "cell_type": "code",
   "execution_count": 35,
   "metadata": {},
   "outputs": [],
   "source": [
    "X_val = X_train[:3000]\n",
    "X_train = X_train[3000:]\n",
    "y_val = y_train[:3000]\n",
    "y_train = y_train[3000:]"
   ]
  },
  {
   "cell_type": "markdown",
   "metadata": {},
   "source": [
    "**Network architecture**\n",
    "\n",
    "- *```Intermediate layers```*: Here we define two 64-dimensional intermediate layers (hidden units) as less might be too limited to learn to separate 46 different classes. E.g. 16-dimensional layers can act as information bottlenecks, permanently dropping relevant information.\n",
    "\n",
    "\n",
    "- *```Last layer```*: Last layer uses softmax acivation, meaning that the network will output a probability distribution over the 46 different output classes. For every input sample, the network will produce a 46-dimensional output vector, where **output[i]** is the probability that the sample belongs to class **i**. The 46-dimensional vector will sum up to 1.\n",
    "\n",
    "\n",
    "- *```Loss function```*: *categorical_crossentropy* measures the distance between two probability distributions - distance between the probability distribution of the network output and the true distribution of the labels. If we would encode labels as integer tensors as ```y_train = np.array(train_labels)```, then we would use *sparse_categorical_crossentropy* loss as *categorical_crossentropy* expects the labels to follow categorical encoding."
   ]
  },
  {
   "cell_type": "code",
   "execution_count": 36,
   "metadata": {},
   "outputs": [],
   "source": [
    "model = models.Sequential()\n",
    "model.add(layers.Dense(64, activation='relu', input_shape=(10000,))) \n",
    "model.add(layers.Dense(64, activation='relu'))\n",
    "model.add(layers.Dense(46, activation='softmax'))\n",
    "model.compile(optimizer='rmsprop',\n",
    "             loss='categorical_crossentropy',\n",
    "             metrics=['accuracy'])"
   ]
  },
  {
   "cell_type": "code",
   "execution_count": 37,
   "metadata": {},
   "outputs": [
    {
     "name": "stdout",
     "output_type": "stream",
     "text": [
      "Train on 5982 samples, validate on 3000 samples\n",
      "Epoch 1/20\n",
      "5982/5982 [==============================] - 3s 546us/step - loss: 2.9412 - accuracy: 0.4453 - val_loss: 2.0937 - val_accuracy: 0.5930\n",
      "Epoch 2/20\n",
      "5982/5982 [==============================] - 3s 476us/step - loss: 1.6761 - accuracy: 0.6638 - val_loss: 1.5450 - val_accuracy: 0.6623\n",
      "Epoch 3/20\n",
      "5982/5982 [==============================] - 3s 467us/step - loss: 1.2031 - accuracy: 0.7424 - val_loss: 1.3131 - val_accuracy: 0.7083\n",
      "Epoch 4/20\n",
      "5982/5982 [==============================] - 3s 440us/step - loss: 0.9458 - accuracy: 0.7979 - val_loss: 1.1988 - val_accuracy: 0.7413\n",
      "Epoch 5/20\n",
      "5982/5982 [==============================] - 3s 495us/step - loss: 0.7581 - accuracy: 0.8444 - val_loss: 1.1286 - val_accuracy: 0.7543\n",
      "Epoch 6/20\n",
      "5982/5982 [==============================] - 5s 774us/step - loss: 0.6188 - accuracy: 0.8748 - val_loss: 1.0782 - val_accuracy: 0.7703\n",
      "Epoch 7/20\n",
      "5982/5982 [==============================] - 3s 533us/step - loss: 0.5096 - accuracy: 0.8965 - val_loss: 1.0653 - val_accuracy: 0.7703\n",
      "Epoch 8/20\n",
      "5982/5982 [==============================] - 3s 532us/step - loss: 0.4137 - accuracy: 0.9186 - val_loss: 1.0322 - val_accuracy: 0.7797\n",
      "Epoch 9/20\n",
      "5982/5982 [==============================] - 3s 456us/step - loss: 0.3376 - accuracy: 0.9363 - val_loss: 1.0370 - val_accuracy: 0.7807\n",
      "Epoch 10/20\n",
      "5982/5982 [==============================] - 3s 457us/step - loss: 0.2875 - accuracy: 0.9445 - val_loss: 1.0217 - val_accuracy: 0.7797\n",
      "Epoch 11/20\n",
      "5982/5982 [==============================] - 3s 528us/step - loss: 0.2390 - accuracy: 0.9520 - val_loss: 1.0419 - val_accuracy: 0.7800\n",
      "Epoch 12/20\n",
      "5982/5982 [==============================] - 3s 470us/step - loss: 0.2016 - accuracy: 0.9554 - val_loss: 1.0417 - val_accuracy: 0.7810\n",
      "Epoch 13/20\n",
      "5982/5982 [==============================] - 3s 488us/step - loss: 0.1748 - accuracy: 0.9600 - val_loss: 1.0273 - val_accuracy: 0.7927\n",
      "Epoch 14/20\n",
      "5982/5982 [==============================] - 3s 485us/step - loss: 0.1531 - accuracy: 0.9612 - val_loss: 1.0488 - val_accuracy: 0.7847\n",
      "Epoch 15/20\n",
      "5982/5982 [==============================] - 3s 471us/step - loss: 0.1337 - accuracy: 0.9644 - val_loss: 1.1136 - val_accuracy: 0.7730\n",
      "Epoch 16/20\n",
      "5982/5982 [==============================] - 3s 460us/step - loss: 0.1250 - accuracy: 0.9644 - val_loss: 1.0980 - val_accuracy: 0.7930\n",
      "Epoch 17/20\n",
      "5982/5982 [==============================] - 3s 467us/step - loss: 0.1164 - accuracy: 0.9666 - val_loss: 1.1597 - val_accuracy: 0.7760\n",
      "Epoch 18/20\n",
      "5982/5982 [==============================] - 3s 467us/step - loss: 0.1081 - accuracy: 0.9664 - val_loss: 1.0971 - val_accuracy: 0.7970\n",
      "Epoch 19/20\n",
      "5982/5982 [==============================] - 3s 485us/step - loss: 0.0996 - accuracy: 0.9659 - val_loss: 1.1781 - val_accuracy: 0.7860\n",
      "Epoch 20/20\n",
      "5982/5982 [==============================] - 3s 452us/step - loss: 0.0949 - accuracy: 0.9687 - val_loss: 1.2014 - val_accuracy: 0.7763\n"
     ]
    }
   ],
   "source": [
    "history = model.fit(X_train, y_train, epochs=20, batch_size=512, validation_data=(X_val,y_val))"
   ]
  },
  {
   "cell_type": "code",
   "execution_count": 39,
   "metadata": {},
   "outputs": [
    {
     "data": {
      "image/png": "[encoded data removed]",
      "text/plain": [
       "<Figure size 432x288 with 1 Axes>"
      ]
     },
     "metadata": {
      "needs_background": "light"
     },
     "output_type": "display_data"
    }
   ],
   "source": [
    "history_dict = history.history\n",
    "loss_values = history_dict['loss']\n",
    "val_loss_values = history_dict['val_loss']\n",
    "epochs = range(1, len(history_dict['accuracy']) + 1)\n",
    "\n",
    "plt.plot(epochs, loss_values, 'bo', label='Training loss')\n",
    "plt.plot(epochs, val_loss_values, 'b', label='Validation loss')\n",
    "plt.title('training and validation loss')\n",
    "plt.ylabel('Loss')\n",
    "plt.xlabel('Epochs')\n",
    "plt.legend()\n",
    "plt.show()"
   ]
  },
  {
   "cell_type": "code",
   "execution_count": 41,
   "metadata": {},
   "outputs": [
    {
     "data": {
      "image/png": "[encoded data removed]",
      "text/plain": [
       "<Figure size 432x288 with 1 Axes>"
      ]
     },
     "metadata": {
      "needs_background": "light"
     },
     "output_type": "display_data"
    }
   ],
   "source": [
    "acc_values = history_dict['accuracy']\n",
    "val_acc_values = history_dict['val_accuracy']\n",
    "\n",
    "plt.plot(epochs, acc_values, 'bo', label='Training accuracy')\n",
    "plt.plot(epochs, val_acc_values, 'b', label='Validation accuracy')\n",
    "plt.title('training and validation accuracy')\n",
    "plt.ylabel('Accuracy')\n",
    "plt.xlabel('Epochs')\n",
    "plt.legend()\n",
    "plt.show()"
   ]
  },
  {
   "cell_type": "markdown",
   "metadata": {},
   "source": [
    "It seems that the network begins to overfit after nine epochs. Better to train a new network with nine epochs and then evaluate it on the test set."
   ]
  },
  {
   "cell_type": "code",
   "execution_count": 42,
   "metadata": {},
   "outputs": [],
   "source": [
    "X_train = vectorize_sequences(train_data)\n",
    "X_test = vectorize_sequences(test_data)\n",
    "y_train = to_one_hot(train_labels)\n",
    "y_test = to_one_hot(test_labels)"
   ]
  },
  {
   "cell_type": "code",
   "execution_count": 43,
   "metadata": {},
   "outputs": [],
   "source": [
    "X_test = X_train[8000:]\n",
    "y_test = y_train[8000:]\n",
    "X_val = X_train[:2000]\n",
    "X_train = X_train[2000:8000]\n",
    "y_val = y_train[:2000]\n",
    "y_train = y_train[2000:8000]"
   ]
  },
  {
   "cell_type": "code",
   "execution_count": 47,
   "metadata": {},
   "outputs": [],
   "source": [
    "model = models.Sequential()\n",
    "model.add(layers.Dense(64, activation='relu', input_shape=(10000,))) \n",
    "model.add(layers.Dense(64, activation='relu'))\n",
    "model.add(layers.Dense(46, activation='softmax'))\n",
    "model.compile(optimizer='rmsprop',\n",
    "             loss='categorical_crossentropy',\n",
    "             metrics=['accuracy'])"
   ]
  },
  {
   "cell_type": "code",
   "execution_count": 50,
   "metadata": {},
   "outputs": [
    {
     "name": "stdout",
     "output_type": "stream",
     "text": [
      "Train on 6000 samples, validate on 2000 samples\n",
      "Epoch 1/9\n",
      "6000/6000 [==============================] - 3s 426us/step - loss: 0.1002 - accuracy: 0.9650 - val_loss: 1.2302 - val_accuracy: 0.7825\n",
      "Epoch 2/9\n",
      "6000/6000 [==============================] - 3s 465us/step - loss: 0.0905 - accuracy: 0.9675 - val_loss: 1.2201 - val_accuracy: 0.7840\n",
      "Epoch 3/9\n",
      "6000/6000 [==============================] - 3s 465us/step - loss: 0.0891 - accuracy: 0.9673 - val_loss: 1.3042 - val_accuracy: 0.7790\n",
      "Epoch 4/9\n",
      "6000/6000 [==============================] - 2s 414us/step - loss: 0.0847 - accuracy: 0.9662 - val_loss: 1.4005 - val_accuracy: 0.7585\n",
      "Epoch 5/9\n",
      "6000/6000 [==============================] - 2s 415us/step - loss: 0.0839 - accuracy: 0.9668 - val_loss: 1.2871 - val_accuracy: 0.7835\n",
      "Epoch 6/9\n",
      "6000/6000 [==============================] - 3s 470us/step - loss: 0.0799 - accuracy: 0.9678 - val_loss: 1.2916 - val_accuracy: 0.7860\n",
      "Epoch 7/9\n",
      "6000/6000 [==============================] - 3s 446us/step - loss: 0.0805 - accuracy: 0.9683 - val_loss: 1.3269 - val_accuracy: 0.7760\n",
      "Epoch 8/9\n",
      "6000/6000 [==============================] - 3s 423us/step - loss: 0.0789 - accuracy: 0.9678 - val_loss: 1.3249 - val_accuracy: 0.7765\n",
      "Epoch 9/9\n",
      "6000/6000 [==============================] - 3s 440us/step - loss: 0.0761 - accuracy: 0.9673 - val_loss: 1.3275 - val_accuracy: 0.7840\n",
      "982/982 [==============================] - 1s 712us/step\n"
     ]
    },
    {
     "data": {
      "text/plain": [
       "[1.4151643750138292, 0.7739307284355164]"
      ]
     },
     "execution_count": 50,
     "metadata": {},
     "output_type": "execute_result"
    }
   ],
   "source": [
    "history = model.fit(X_train, y_train, epochs=9, batch_size=512, validation_data=(X_val,y_val))\n",
    "results = model.evaluate(X_test, y_test)\n",
    "results"
   ]
  },
  {
   "cell_type": "markdown",
   "metadata": {},
   "source": [
    "This approach gives an accuracy of $\\approx$ ```0.77%```"
   ]
  }
 ],
 "metadata": {
  "kernelspec": {
   "display_name": "Python 3",
   "language": "python",
   "name": "python3"
  },
  "language_info": {
   "codemirror_mode": {
    "name": "ipython",
    "version": 3
   },
   "file_extension": ".py",
   "mimetype": "text/x-python",
   "name": "python",
   "nbconvert_exporter": "python",
   "pygments_lexer": "ipython3",
   "version": "3.7.3"
  },
  "varInspector": {
   "cols": {
    "lenName": 16,
    "lenType": 16,
    "lenVar": 40
   },
   "kernels_config": {
    "python": {
     "delete_cmd_postfix": "",
     "delete_cmd_prefix": "del ",
     "library": "var_list.py",
     "varRefreshCmd": "print(var_dic_list())"
    },
    "r": {
     "delete_cmd_postfix": ") ",
     "delete_cmd_prefix": "rm(",
     "library": "var_list.r",
     "varRefreshCmd": "cat(var_dic_list()) "
    }
   },
   "types_to_exclude": [
    "module",
    "function",
    "builtin_function_or_method",
    "instance",
    "_Feature"
   ],
   "window_display": false
  }
 },
 "nbformat": 4,
 "nbformat_minor": 2
}
