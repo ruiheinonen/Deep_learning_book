{
 "cells": [
  {
   "cell_type": "markdown",
   "metadata": {},
   "source": [
    "#### Simple binary movie review classification "
   ]
  },
  {
   "cell_type": "code",
   "execution_count": 1,
   "metadata": {},
   "outputs": [
    {
     "name": "stderr",
     "output_type": "stream",
     "text": [
      "Using TensorFlow backend.\n"
     ]
    }
   ],
   "source": [
    "from keras.datasets import imdb\n",
    "import numpy as np\n",
    "from keras import models\n",
    "from keras import layers\n",
    "\n",
    "import matplotlib.pyplot as plt"
   ]
  },
  {
   "cell_type": "code",
   "execution_count": 2,
   "metadata": {},
   "outputs": [],
   "source": [
    "(train_data, train_labels), (test_data, test_labels) = imdb.load_data(num_words=6000) #6k most freq occuring words"
   ]
  },
  {
   "cell_type": "code",
   "execution_count": 3,
   "metadata": {},
   "outputs": [
    {
     "data": {
      "text/plain": [
       "5999"
      ]
     },
     "execution_count": 3,
     "metadata": {},
     "output_type": "execute_result"
    }
   ],
   "source": [
    "max([max(sequence) for sequence in train_data]) # longest seq"
   ]
  },
  {
   "cell_type": "code",
   "execution_count": 4,
   "metadata": {},
   "outputs": [],
   "source": [
    "# Set spesific indices of an all-zero matrix to 1s\n",
    "def vectorize_sequences(sequences, dimension=6000):\n",
    "    results = np.zeros((len(sequences), dimension))\n",
    "    for i, sequence in enumerate(sequences):\n",
    "        results[i, sequence] = 1\n",
    "    return results"
   ]
  },
  {
   "cell_type": "code",
   "execution_count": 5,
   "metadata": {},
   "outputs": [],
   "source": [
    "# Vectorize data\n",
    "X_train = vectorize_sequences(train_data)\n",
    "X_test = vectorize_sequences(test_data)\n",
    "y_train = np.asarray(train_labels).astype('float32')\n",
    "y_test = np.asarray(test_labels).astype('float32')"
   ]
  },
  {
   "cell_type": "code",
   "execution_count": 6,
   "metadata": {},
   "outputs": [],
   "source": [
    "X_val = X_train[:3000]\n",
    "X_train = X_train[3000:]\n",
    "y_val = y_train[:3000]\n",
    "y_train = y_train[3000:]"
   ]
  },
  {
   "cell_type": "markdown",
   "metadata": {},
   "source": [
    "**Network architecture**\n",
    "\n",
    "- *```Intermediate layers```*: Here we define two 16-dimensional intermediate layers (hidden units). \n",
    "\n",
    "\n",
    "- *```Last layer```*: Because this is a binary problem, we'll use sigmoid function in the last layer as it will output a scalar prediction regarding the sentiment of the current review.\n",
    "\n",
    "\n",
    "- *```Loss function```*: Again, because this is a binary problem and the output of the network is a probability, it is best to use *binary_crossentropy* loss. Here, we could also use mean squared error, but the binary crossentropy loss is more feasible as we deal with a model that outputs probabilitites. "
   ]
  },
  {
   "cell_type": "code",
   "execution_count": 7,
   "metadata": {},
   "outputs": [],
   "source": [
    "model = models.Sequential()\n",
    "model.add(layers.Dense(16, activation='relu', input_shape=(6000,)))\n",
    "model.add(layers.Dense(16, activation='relu'))\n",
    "model.add(layers.Dense(1, activation='sigmoid'))\n",
    "model.compile(optimizer='rmsprop',\n",
    "             loss='binary_crossentropy',\n",
    "             metrics=['accuracy'])"
   ]
  },
  {
   "cell_type": "code",
   "execution_count": 8,
   "metadata": {},
   "outputs": [
    {
     "name": "stdout",
     "output_type": "stream",
     "text": [
      "Train on 22000 samples, validate on 3000 samples\n",
      "Epoch 1/20\n",
      "22000/22000 [==============================] - 6s 264us/step - loss: 0.5054 - accuracy: 0.8008 - val_loss: 0.3832 - val_accuracy: 0.8600\n",
      "Epoch 2/20\n",
      "22000/22000 [==============================] - 6s 254us/step - loss: 0.3009 - accuracy: 0.8937 - val_loss: 0.2970 - val_accuracy: 0.8790\n",
      "Epoch 3/20\n",
      "22000/22000 [==============================] - 5s 247us/step - loss: 0.2349 - accuracy: 0.9146 - val_loss: 0.2770 - val_accuracy: 0.8887\n",
      "Epoch 4/20\n",
      "22000/22000 [==============================] - 6s 259us/step - loss: 0.2018 - accuracy: 0.9258 - val_loss: 0.2776 - val_accuracy: 0.8877\n",
      "Epoch 5/20\n",
      "22000/22000 [==============================] - 6s 264us/step - loss: 0.1793 - accuracy: 0.9339 - val_loss: 0.3057 - val_accuracy: 0.8760\n",
      "Epoch 6/20\n",
      "22000/22000 [==============================] - 5s 244us/step - loss: 0.1660 - accuracy: 0.9400 - val_loss: 0.3041 - val_accuracy: 0.8830\n",
      "Epoch 7/20\n",
      "22000/22000 [==============================] - 5s 238us/step - loss: 0.1540 - accuracy: 0.9443 - val_loss: 0.3193 - val_accuracy: 0.8793\n",
      "Epoch 8/20\n",
      "22000/22000 [==============================] - 5s 244us/step - loss: 0.1431 - accuracy: 0.9479 - val_loss: 0.3391 - val_accuracy: 0.8790\n",
      "Epoch 9/20\n",
      "22000/22000 [==============================] - 6s 259us/step - loss: 0.1358 - accuracy: 0.9494 - val_loss: 0.3575 - val_accuracy: 0.8773\n",
      "Epoch 10/20\n",
      "22000/22000 [==============================] - 5s 245us/step - loss: 0.1279 - accuracy: 0.9545 - val_loss: 0.3667 - val_accuracy: 0.8773\n",
      "Epoch 11/20\n",
      "22000/22000 [==============================] - 6s 263us/step - loss: 0.1223 - accuracy: 0.9546 - val_loss: 0.4072 - val_accuracy: 0.8720\n",
      "Epoch 12/20\n",
      "22000/22000 [==============================] - 6s 263us/step - loss: 0.1127 - accuracy: 0.9599 - val_loss: 0.4072 - val_accuracy: 0.8747\n",
      "Epoch 13/20\n",
      "22000/22000 [==============================] - 6s 263us/step - loss: 0.1094 - accuracy: 0.9590 - val_loss: 0.4276 - val_accuracy: 0.8713\n",
      "Epoch 14/20\n",
      "22000/22000 [==============================] - 6s 264us/step - loss: 0.1045 - accuracy: 0.9632 - val_loss: 0.4403 - val_accuracy: 0.8710\n",
      "Epoch 15/20\n",
      "22000/22000 [==============================] - 6s 281us/step - loss: 0.0983 - accuracy: 0.9644 - val_loss: 0.4760 - val_accuracy: 0.8650\n",
      "Epoch 16/20\n",
      "22000/22000 [==============================] - 6s 268us/step - loss: 0.0918 - accuracy: 0.9672 - val_loss: 0.4853 - val_accuracy: 0.8643\n",
      "Epoch 17/20\n",
      "22000/22000 [==============================] - 6s 260us/step - loss: 0.0892 - accuracy: 0.9683 - val_loss: 0.5194 - val_accuracy: 0.8623\n",
      "Epoch 18/20\n",
      "22000/22000 [==============================] - 6s 263us/step - loss: 0.0843 - accuracy: 0.9698 - val_loss: 0.5399 - val_accuracy: 0.8603\n",
      "Epoch 19/20\n",
      "22000/22000 [==============================] - 5s 242us/step - loss: 0.0795 - accuracy: 0.9722 - val_loss: 0.5579 - val_accuracy: 0.8597\n",
      "Epoch 20/20\n",
      "22000/22000 [==============================] - 5s 240us/step - loss: 0.0766 - accuracy: 0.9735 - val_loss: 0.6133 - val_accuracy: 0.8533\n"
     ]
    }
   ],
   "source": [
    "history = model.fit(X_train, y_train, epochs=20, batch_size=512, validation_data=(X_val,y_val))"
   ]
  },
  {
   "cell_type": "code",
   "execution_count": 9,
   "metadata": {},
   "outputs": [
    {
     "data": {
      "image/png": "[encoded data removed]",
      "text/plain": [
       "<Figure size 432x288 with 1 Axes>"
      ]
     },
     "metadata": {
      "needs_background": "light"
     },
     "output_type": "display_data"
    }
   ],
   "source": [
    "history_dict = history.history\n",
    "loss_values = history_dict['loss']\n",
    "val_loss_values = history_dict['val_loss']\n",
    "epochs = range(1, len(history_dict['accuracy']) + 1)\n",
    "\n",
    "plt.plot(epochs, loss_values, 'bo', label='Training loss')\n",
    "plt.plot(epochs, val_loss_values, 'b', label='Validation loss')\n",
    "plt.title('training and validation loss')\n",
    "plt.ylabel('Loss')\n",
    "plt.xlabel('Epochs')\n",
    "plt.legend()\n",
    "plt.show()"
   ]
  },
  {
   "cell_type": "code",
   "execution_count": 10,
   "metadata": {},
   "outputs": [
    {
     "data": {
      "image/png": "[encoded data removed]",
      "text/plain": [
       "<Figure size 432x288 with 1 Axes>"
      ]
     },
     "metadata": {
      "needs_background": "light"
     },
     "output_type": "display_data"
    }
   ],
   "source": [
    "acc_values = history_dict['accuracy']\n",
    "val_acc_values = history_dict['val_accuracy']\n",
    "\n",
    "plt.plot(epochs, acc_values, 'bo', label='Training accuracy')\n",
    "plt.plot(epochs, val_acc_values, 'b', label='Validation accuracy')\n",
    "plt.title('training and validation accuracy')\n",
    "plt.ylabel('Accuracy')\n",
    "plt.xlabel('Epochs')\n",
    "plt.legend()\n",
    "plt.show()"
   ]
  },
  {
   "cell_type": "markdown",
   "metadata": {},
   "source": [
    "There is clear overfittingas the validation loss is not exponentially nor linearily decreasing function. After about four epochs the network starts to overoptimize the training data and it ends up learning representations that are spesific to itself, therefore not generalizing well on validation data. Here, decreasing the amount of epochs can help to reduce the overfitting."
   ]
  },
  {
   "cell_type": "code",
   "execution_count": 11,
   "metadata": {},
   "outputs": [],
   "source": [
    "model = models.Sequential()\n",
    "model.add(layers.Dense(16, activation='relu', input_shape=(6000,)))\n",
    "model.add(layers.Dense(16, activation='relu'))\n",
    "model.add(layers.Dense(1, activation='sigmoid'))\n",
    "model.compile(optimizer='rmsprop',\n",
    "             loss='binary_crossentropy',\n",
    "             metrics=['accuracy'])"
   ]
  },
  {
   "cell_type": "code",
   "execution_count": 12,
   "metadata": {},
   "outputs": [
    {
     "name": "stdout",
     "output_type": "stream",
     "text": [
      "Epoch 1/4\n",
      "22000/22000 [==============================] - 9s 402us/step - loss: 0.4024 - accuracy: 0.8389\n",
      "Epoch 2/4\n",
      "22000/22000 [==============================] - 9s 391us/step - loss: 0.2428 - accuracy: 0.9097\n",
      "Epoch 3/4\n",
      "22000/22000 [==============================] - 8s 382us/step - loss: 0.2017 - accuracy: 0.9230\n",
      "Epoch 4/4\n",
      "22000/22000 [==============================] - 8s 368us/step - loss: 0.1773 - accuracy: 0.9336\n",
      "3000/3000 [==============================] - 2s 527us/step\n"
     ]
    },
    {
     "data": {
      "text/plain": [
       "[0.3011767933368683, 0.8849999904632568]"
      ]
     },
     "execution_count": 12,
     "metadata": {},
     "output_type": "execute_result"
    }
   ],
   "source": [
    "history = model.fit(X_train, y_train, epochs=4, batch_size=256)\n",
    "results = model.evaluate(X_val, y_val)\n",
    "results"
   ]
  },
  {
   "cell_type": "markdown",
   "metadata": {},
   "source": [
    "A fairly naive approach gives us an accuracy of $\\approx$ ```0.88%```"
   ]
  }
 ],
 "metadata": {
  "kernelspec": {
   "display_name": "Python 3",
   "language": "python",
   "name": "python3"
  },
  "language_info": {
   "codemirror_mode": {
    "name": "ipython",
    "version": 3
   },
   "file_extension": ".py",
   "mimetype": "text/x-python",
   "name": "python",
   "nbconvert_exporter": "python",
   "pygments_lexer": "ipython3",
   "version": "3.7.3"
  },
  "varInspector": {
   "cols": {
    "lenName": 16,
    "lenType": 16,
    "lenVar": 40
   },
   "kernels_config": {
    "python": {
     "delete_cmd_postfix": "",
     "delete_cmd_prefix": "del ",
     "library": "var_list.py",
     "varRefreshCmd": "print(var_dic_list())"
    },
    "r": {
     "delete_cmd_postfix": ") ",
     "delete_cmd_prefix": "rm(",
     "library": "var_list.r",
     "varRefreshCmd": "cat(var_dic_list()) "
    }
   },
   "types_to_exclude": [
    "module",
    "function",
    "builtin_function_or_method",
    "instance",
    "_Feature"
   ],
   "window_display": false
  }
 },
 "nbformat": 4,
 "nbformat_minor": 2
}
