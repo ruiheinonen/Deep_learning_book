{
 "cells": [
  {
   "cell_type": "code",
   "execution_count": 1,
   "metadata": {},
   "outputs": [
    {
     "name": "stderr",
     "output_type": "stream",
     "text": [
      "Using TensorFlow backend.\n"
     ]
    }
   ],
   "source": [
    "from keras.datasets import imdb\n",
    "import numpy as np\n",
    "\n",
    "from keras import models\n",
    "from keras import layers\n",
    "\n",
    "import matplotlib.pyplot as plt"
   ]
  },
  {
   "cell_type": "code",
   "execution_count": 3,
   "metadata": {},
   "outputs": [],
   "source": [
    "(train_data, train_labels), (test_data, test_labels) = imdb.load_data(num_words=6000) #6k most freq occuring words"
   ]
  },
  {
   "cell_type": "code",
   "execution_count": 4,
   "metadata": {},
   "outputs": [
    {
     "data": {
      "text/plain": [
       "5999"
      ]
     },
     "execution_count": 4,
     "metadata": {},
     "output_type": "execute_result"
    }
   ],
   "source": [
    "max([max(sequence) for sequence in train_data]) # longest seq"
   ]
  },
  {
   "cell_type": "code",
   "execution_count": 5,
   "metadata": {},
   "outputs": [],
   "source": [
    "def vectorize_sequences(sequences, dimension=6000):\n",
    "    results = np.zeros((len(sequences), dimension))\n",
    "    for i, sequence in enumerate(sequences):\n",
    "        results[i, sequence] = 1\n",
    "    return results"
   ]
  },
  {
   "cell_type": "code",
   "execution_count": 6,
   "metadata": {},
   "outputs": [],
   "source": [
    "X_train = vectorize_sequences(train_data)\n",
    "X_test = vectorize_sequences(test_data)\n",
    "y_train = np.asarray(train_labels).astype('float32')\n",
    "y_test = np.asarray(test_labels).astype('float32')"
   ]
  },
  {
   "cell_type": "code",
   "execution_count": 7,
   "metadata": {},
   "outputs": [],
   "source": [
    "X_val = X_train[:3000]\n",
    "X_train = X_train[3000:]\n",
    "y_val = y_train[:3000]\n",
    "y_train = y_train[3000:]"
   ]
  },
  {
   "cell_type": "code",
   "execution_count": 8,
   "metadata": {},
   "outputs": [],
   "source": [
    "model = models.Sequential()\n",
    "model.add(layers.Dense(64, activation='relu', input_shape=(6000,)))\n",
    "model.add(layers.Dense(64, activation='relu'))\n",
    "model.add(layers.Dense(1, activation='sigmoid'))\n",
    "model.compile(optimizer='rmsprop',\n",
    "             loss='binary_crossentropy',\n",
    "             metrics=['accuracy'])"
   ]
  },
  {
   "cell_type": "code",
   "execution_count": 9,
   "metadata": {},
   "outputs": [
    {
     "name": "stdout",
     "output_type": "stream",
     "text": [
      "Train on 22000 samples, validate on 3000 samples\n",
      "Epoch 1/20\n",
      "22000/22000 [==============================] - 7s 323us/step - loss: 0.4363 - accuracy: 0.8071 - val_loss: 0.3119 - val_accuracy: 0.8760\n",
      "Epoch 2/20\n",
      "22000/22000 [==============================] - 11s 513us/step - loss: 0.2673 - accuracy: 0.8948 - val_loss: 0.2763 - val_accuracy: 0.8880\n",
      "Epoch 3/20\n",
      "22000/22000 [==============================] - 11s 515us/step - loss: 0.2135 - accuracy: 0.9167 - val_loss: 0.2767 - val_accuracy: 0.8863\n",
      "Epoch 4/20\n",
      "22000/22000 [==============================] - 7s 340us/step - loss: 0.1843 - accuracy: 0.9277 - val_loss: 0.2941 - val_accuracy: 0.8837\n",
      "Epoch 5/20\n",
      "22000/22000 [==============================] - 9s 427us/step - loss: 0.1501 - accuracy: 0.9431 - val_loss: 0.3244 - val_accuracy: 0.8807\n",
      "Epoch 6/20\n",
      "22000/22000 [==============================] - 12s 537us/step - loss: 0.1307 - accuracy: 0.9515 - val_loss: 0.3378 - val_accuracy: 0.8787\n",
      "Epoch 7/20\n",
      "22000/22000 [==============================] - 7s 327us/step - loss: 0.1080 - accuracy: 0.9587 - val_loss: 0.4165 - val_accuracy: 0.8627\n",
      "Epoch 8/20\n",
      "22000/22000 [==============================] - 7s 323us/step - loss: 0.0849 - accuracy: 0.9689 - val_loss: 0.4083 - val_accuracy: 0.8733\n",
      "Epoch 9/20\n",
      "22000/22000 [==============================] - 7s 336us/step - loss: 0.0695 - accuracy: 0.9769 - val_loss: 0.4406 - val_accuracy: 0.8633\n",
      "Epoch 10/20\n",
      "22000/22000 [==============================] - 7s 322us/step - loss: 0.0503 - accuracy: 0.9847 - val_loss: 0.4690 - val_accuracy: 0.8743\n",
      "Epoch 11/20\n",
      "22000/22000 [==============================] - 7s 323us/step - loss: 0.0336 - accuracy: 0.9906 - val_loss: 0.5272 - val_accuracy: 0.8677\n",
      "Epoch 12/20\n",
      "22000/22000 [==============================] - 6s 294us/step - loss: 0.0335 - accuracy: 0.9899 - val_loss: 0.5584 - val_accuracy: 0.8707\n",
      "Epoch 13/20\n",
      "22000/22000 [==============================] - 7s 327us/step - loss: 0.0241 - accuracy: 0.9932 - val_loss: 0.5958 - val_accuracy: 0.8707\n",
      "Epoch 14/20\n",
      "22000/22000 [==============================] - 7s 306us/step - loss: 0.0264 - accuracy: 0.9927 - val_loss: 0.5972 - val_accuracy: 0.8663\n",
      "Epoch 15/20\n",
      "22000/22000 [==============================] - 7s 330us/step - loss: 0.0041 - accuracy: 0.9996 - val_loss: 0.7299 - val_accuracy: 0.8657\n",
      "Epoch 16/20\n",
      "22000/22000 [==============================] - 7s 314us/step - loss: 0.0205 - accuracy: 0.9939 - val_loss: 0.7225 - val_accuracy: 0.8670\n",
      "Epoch 17/20\n",
      "22000/22000 [==============================] - 7s 319us/step - loss: 0.0256 - accuracy: 0.9937 - val_loss: 0.7479 - val_accuracy: 0.8670\n",
      "Epoch 18/20\n",
      "22000/22000 [==============================] - 7s 331us/step - loss: 0.0015 - accuracy: 0.9999 - val_loss: 0.8137 - val_accuracy: 0.8633\n",
      "Epoch 19/20\n",
      "22000/22000 [==============================] - 7s 328us/step - loss: 0.0229 - accuracy: 0.9944 - val_loss: 0.7613 - val_accuracy: 0.8653\n",
      "Epoch 20/20\n",
      "22000/22000 [==============================] - 7s 331us/step - loss: 8.9563e-04 - accuracy: 1.0000 - val_loss: 0.8823 - val_accuracy: 0.8653\n"
     ]
    }
   ],
   "source": [
    "history = model.fit(X_train, y_train, epochs=20, batch_size=512, validation_data=(X_val,y_val))"
   ]
  },
  {
   "cell_type": "code",
   "execution_count": 10,
   "metadata": {},
   "outputs": [
    {
     "data": {
      "image/png": "[encoded data removed]",
      "text/plain": [
       "<Figure size 432x288 with 1 Axes>"
      ]
     },
     "metadata": {
      "needs_background": "light"
     },
     "output_type": "display_data"
    }
   ],
   "source": [
    "history_dict = history.history\n",
    "loss_values = history_dict['loss']\n",
    "val_loss_values = history_dict['val_loss']\n",
    "epochs = range(1, len(history_dict['accuracy']) + 1)\n",
    "\n",
    "plt.plot(epochs, loss_values, 'bo', label='Training loss')\n",
    "plt.plot(epochs, val_loss_values, 'b', label='Validation loss')\n",
    "plt.title('training and validation loss')\n",
    "plt.ylabel('Loss')\n",
    "plt.xlabel('Epochs')\n",
    "plt.legend()\n",
    "plt.show()"
   ]
  },
  {
   "cell_type": "code",
   "execution_count": 11,
   "metadata": {},
   "outputs": [
    {
     "data": {
      "image/png": "[encoded data removed]",
      "text/plain": [
       "<Figure size 432x288 with 1 Axes>"
      ]
     },
     "metadata": {
      "needs_background": "light"
     },
     "output_type": "display_data"
    }
   ],
   "source": [
    "acc_values = history_dict['accuracy']\n",
    "val_acc_values = history_dict['val_accuracy']\n",
    "\n",
    "plt.plot(epochs, acc_values, 'bo', label='Training accuracy')\n",
    "plt.plot(epochs, val_acc_values, 'b', label='Validation accuracy')\n",
    "plt.title('training and validation accuracy')\n",
    "plt.ylabel('Accuracy')\n",
    "plt.xlabel('Epochs')\n",
    "plt.legend()\n",
    "plt.show()"
   ]
  },
  {
   "cell_type": "markdown",
   "metadata": {},
   "source": [
    "There is clear overfitting because the validation loss is not exponentially nor linearily decreasing function. **Decreasing the amount of epochs can help.**"
   ]
  },
  {
   "cell_type": "code",
   "execution_count": 12,
   "metadata": {},
   "outputs": [],
   "source": [
    "model = models.Sequential()\n",
    "model.add(layers.Dense(32, activation='relu', input_shape=(6000,)))\n",
    "model.add(layers.Dense(32, activation='relu'))\n",
    "model.add(layers.Dense(32, activation='relu'))\n",
    "model.add(layers.Dense(1, activation='sigmoid'))\n",
    "model.compile(optimizer='rmsprop',\n",
    "             loss='binary_crossentropy',\n",
    "             metrics=['accuracy'])"
   ]
  },
  {
   "cell_type": "code",
   "execution_count": 15,
   "metadata": {},
   "outputs": [
    {
     "name": "stdout",
     "output_type": "stream",
     "text": [
      "Epoch 1/4\n",
      "22000/22000 [==============================] - 9s 428us/step - loss: 0.0415 - accuracy: 0.9869\n",
      "Epoch 2/4\n",
      "22000/22000 [==============================] - 10s 450us/step - loss: 0.0268 - accuracy: 0.9920\n",
      "Epoch 3/4\n",
      "22000/22000 [==============================] - 9s 419us/step - loss: 0.0201 - accuracy: 0.9947\n",
      "Epoch 4/4\n",
      "22000/22000 [==============================] - 9s 414us/step - loss: 0.0131 - accuracy: 0.9970\n",
      "3000/3000 [==============================] - 2s 555us/step\n"
     ]
    },
    {
     "data": {
      "text/plain": [
       "[0.8358685154914856, 0.8633333444595337]"
      ]
     },
     "execution_count": 15,
     "metadata": {},
     "output_type": "execute_result"
    }
   ],
   "source": [
    "history = model.fit(X_train, y_train, epochs=4, batch_size=256)\n",
    "results = model.evaluate(X_val, y_val)\n",
    "results"
   ]
  },
  {
   "cell_type": "markdown",
   "metadata": {},
   "source": [
    "A fairly naive approach gives us an accuracy of ```0.8633333444595337```"
   ]
  },
  {
   "cell_type": "code",
   "execution_count": null,
   "metadata": {},
   "outputs": [],
   "source": []
  }
 ],
 "metadata": {
  "kernelspec": {
   "display_name": "Python 3",
   "language": "python",
   "name": "python3"
  },
  "language_info": {
   "codemirror_mode": {
    "name": "ipython",
    "version": 3
   },
   "file_extension": ".py",
   "mimetype": "text/x-python",
   "name": "python",
   "nbconvert_exporter": "python",
   "pygments_lexer": "ipython3",
   "version": "3.7.3"
  },
  "varInspector": {
   "cols": {
    "lenName": 16,
    "lenType": 16,
    "lenVar": 40
   },
   "kernels_config": {
    "python": {
     "delete_cmd_postfix": "",
     "delete_cmd_prefix": "del ",
     "library": "var_list.py",
     "varRefreshCmd": "print(var_dic_list())"
    },
    "r": {
     "delete_cmd_postfix": ") ",
     "delete_cmd_prefix": "rm(",
     "library": "var_list.r",
     "varRefreshCmd": "cat(var_dic_list()) "
    }
   },
   "types_to_exclude": [
    "module",
    "function",
    "builtin_function_or_method",
    "instance",
    "_Feature"
   ],
   "window_display": false
  }
 },
 "nbformat": 4,
 "nbformat_minor": 2
}
